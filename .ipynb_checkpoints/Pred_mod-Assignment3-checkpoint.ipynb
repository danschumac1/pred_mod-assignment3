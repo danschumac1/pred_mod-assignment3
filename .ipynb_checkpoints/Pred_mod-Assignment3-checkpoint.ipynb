{
 "cells": [
  {
   "cell_type": "markdown",
   "id": "1ad46931",
   "metadata": {},
   "source": [
    "#### imports"
   ]
  },
  {
   "cell_type": "code",
   "execution_count": 1,
   "id": "dd44d85b",
   "metadata": {},
   "outputs": [],
   "source": [
    "import numpy as np\n",
    "import pandas as pd\n",
    "from sklearn.linear_model import LogisticRegression\n",
    "from sklearn.discriminant_analysis import LinearDiscriminantAnalysis as LDA, QuadraticDiscriminantAnalysis as QDA\n",
    "from sklearn.naive_bayes import GaussianNB\n",
    "from sklearn.neighbors import KNeighborsClassifier\n",
    "from sklearn.preprocessing import StandardScaler\n",
    "from sklearn.model_selection import train_test_split, cross_val_score\n",
    "from sklearn.metrics import accuracy_score\n",
    "from tqdm import tqdm\n",
    "from itertools import combinations\n",
    "import pickle\n",
    "import os\n",
    "\n",
    "# If you're using statsmodels or ISLP for specific tasks, keep these imports\n",
    "import statsmodels.api as sm\n",
    "# Assuming ISLP and homebrew are custom modules specific to your project\n",
    "from ISLP import load_data, confusion_table\n",
    "from ISLP.models import ModelSpec as MS, summarize, contrast\n",
    "\n",
    "from functions.homebrew import (\n",
    "    evaluate,\n",
    "    diagnostic_plots,\n",
    "    calculate_vif,\n",
    "    remove_high_vif_features,\n",
    "    plot_sensitivity_specificity,\n",
    "    aic_scorer,\n",
    "    select_model_by_aic,\n",
    "    calculate_cooks_distance,\n",
    "    logistic_regression_diagnostic_plots,\n",
    "    view_logistic_regression_coefficients\n",
    ")\n"
   ]
  },
  {
   "cell_type": "markdown",
   "id": "c3550ab2",
   "metadata": {},
   "source": [
    "## 13. This question should be answered using the Weekly data set, which is part of the ISLP package. This data is similar in nature to the Smarket data from this chapter’s lab, except that it contains 1, 089 weekly returns for 21 years, from the beginning of 1990 to the end of 2010."
   ]
  },
  {
   "cell_type": "code",
   "execution_count": 2,
   "id": "dfd3d372",
   "metadata": {},
   "outputs": [],
   "source": [
    "df_week = load_data('Weekly')"
   ]
  },
  {
   "cell_type": "markdown",
   "id": "b7db733f",
   "metadata": {},
   "source": [
    "### (a) Produce some numerical and graphical summaries of the Weekly data. Do there appear to be any patterns"
   ]
  },
  {
   "cell_type": "markdown",
   "id": "5ef770f8",
   "metadata": {},
   "source": [
    "- I don't see any patterns..."
   ]
  },
  {
   "cell_type": "code",
   "execution_count": 3,
   "id": "d35ef973",
   "metadata": {},
   "outputs": [
    {
     "data": {
      "text/html": [
       "<div>\n",
       "<style scoped>\n",
       "    .dataframe tbody tr th:only-of-type {\n",
       "        vertical-align: middle;\n",
       "    }\n",
       "\n",
       "    .dataframe tbody tr th {\n",
       "        vertical-align: top;\n",
       "    }\n",
       "\n",
       "    .dataframe thead th {\n",
       "        text-align: right;\n",
       "    }\n",
       "</style>\n",
       "<table border=\"1\" class=\"dataframe\">\n",
       "  <thead>\n",
       "    <tr style=\"text-align: right;\">\n",
       "      <th></th>\n",
       "      <th>Year</th>\n",
       "      <th>Lag1</th>\n",
       "      <th>Lag2</th>\n",
       "      <th>Lag3</th>\n",
       "      <th>Lag4</th>\n",
       "      <th>Lag5</th>\n",
       "      <th>Volume</th>\n",
       "      <th>Today</th>\n",
       "      <th>Direction</th>\n",
       "    </tr>\n",
       "  </thead>\n",
       "  <tbody>\n",
       "    <tr>\n",
       "      <th>0</th>\n",
       "      <td>1990</td>\n",
       "      <td>0.816</td>\n",
       "      <td>1.572</td>\n",
       "      <td>-3.936</td>\n",
       "      <td>-0.229</td>\n",
       "      <td>-3.484</td>\n",
       "      <td>0.154976</td>\n",
       "      <td>-0.270</td>\n",
       "      <td>Down</td>\n",
       "    </tr>\n",
       "    <tr>\n",
       "      <th>1</th>\n",
       "      <td>1990</td>\n",
       "      <td>-0.270</td>\n",
       "      <td>0.816</td>\n",
       "      <td>1.572</td>\n",
       "      <td>-3.936</td>\n",
       "      <td>-0.229</td>\n",
       "      <td>0.148574</td>\n",
       "      <td>-2.576</td>\n",
       "      <td>Down</td>\n",
       "    </tr>\n",
       "    <tr>\n",
       "      <th>2</th>\n",
       "      <td>1990</td>\n",
       "      <td>-2.576</td>\n",
       "      <td>-0.270</td>\n",
       "      <td>0.816</td>\n",
       "      <td>1.572</td>\n",
       "      <td>-3.936</td>\n",
       "      <td>0.159837</td>\n",
       "      <td>3.514</td>\n",
       "      <td>Up</td>\n",
       "    </tr>\n",
       "    <tr>\n",
       "      <th>3</th>\n",
       "      <td>1990</td>\n",
       "      <td>3.514</td>\n",
       "      <td>-2.576</td>\n",
       "      <td>-0.270</td>\n",
       "      <td>0.816</td>\n",
       "      <td>1.572</td>\n",
       "      <td>0.161630</td>\n",
       "      <td>0.712</td>\n",
       "      <td>Up</td>\n",
       "    </tr>\n",
       "    <tr>\n",
       "      <th>4</th>\n",
       "      <td>1990</td>\n",
       "      <td>0.712</td>\n",
       "      <td>3.514</td>\n",
       "      <td>-2.576</td>\n",
       "      <td>-0.270</td>\n",
       "      <td>0.816</td>\n",
       "      <td>0.153728</td>\n",
       "      <td>1.178</td>\n",
       "      <td>Up</td>\n",
       "    </tr>\n",
       "  </tbody>\n",
       "</table>\n",
       "</div>"
      ],
      "text/plain": [
       "   Year   Lag1   Lag2   Lag3   Lag4   Lag5    Volume  Today Direction\n",
       "0  1990  0.816  1.572 -3.936 -0.229 -3.484  0.154976 -0.270      Down\n",
       "1  1990 -0.270  0.816  1.572 -3.936 -0.229  0.148574 -2.576      Down\n",
       "2  1990 -2.576 -0.270  0.816  1.572 -3.936  0.159837  3.514        Up\n",
       "3  1990  3.514 -2.576 -0.270  0.816  1.572  0.161630  0.712        Up\n",
       "4  1990  0.712  3.514 -2.576 -0.270  0.816  0.153728  1.178        Up"
      ]
     },
     "execution_count": 3,
     "metadata": {},
     "output_type": "execute_result"
    }
   ],
   "source": [
    "df_week.head()"
   ]
  },
  {
   "cell_type": "code",
   "execution_count": 4,
   "id": "b115bbb1",
   "metadata": {},
   "outputs": [
    {
     "data": {
      "text/plain": [
       "Year      2000.048669\n",
       "Lag1         0.150585\n",
       "Lag2         0.151079\n",
       "Lag3         0.147205\n",
       "Lag4         0.145818\n",
       "Lag5         0.139893\n",
       "Volume       1.574618\n",
       "Today        0.149899\n",
       "dtype: float64"
      ]
     },
     "execution_count": 4,
     "metadata": {},
     "output_type": "execute_result"
    }
   ],
   "source": [
    "df_week.mean(numeric_only=True)"
   ]
  },
  {
   "cell_type": "code",
   "execution_count": 5,
   "id": "e4efba27",
   "metadata": {},
   "outputs": [
    {
     "data": {
      "text/html": [
       "<div>\n",
       "<style scoped>\n",
       "    .dataframe tbody tr th:only-of-type {\n",
       "        vertical-align: middle;\n",
       "    }\n",
       "\n",
       "    .dataframe tbody tr th {\n",
       "        vertical-align: top;\n",
       "    }\n",
       "\n",
       "    .dataframe thead th {\n",
       "        text-align: right;\n",
       "    }\n",
       "</style>\n",
       "<table border=\"1\" class=\"dataframe\">\n",
       "  <thead>\n",
       "    <tr style=\"text-align: right;\">\n",
       "      <th></th>\n",
       "      <th>Year</th>\n",
       "      <th>Lag1</th>\n",
       "      <th>Lag2</th>\n",
       "      <th>Lag3</th>\n",
       "      <th>Lag4</th>\n",
       "      <th>Lag5</th>\n",
       "      <th>Volume</th>\n",
       "      <th>Today</th>\n",
       "    </tr>\n",
       "  </thead>\n",
       "  <tbody>\n",
       "    <tr>\n",
       "      <th>Year</th>\n",
       "      <td>1.000000</td>\n",
       "      <td>-0.032289</td>\n",
       "      <td>-0.033390</td>\n",
       "      <td>-0.030006</td>\n",
       "      <td>-0.031128</td>\n",
       "      <td>-0.030519</td>\n",
       "      <td>0.841942</td>\n",
       "      <td>-0.032460</td>\n",
       "    </tr>\n",
       "    <tr>\n",
       "      <th>Lag1</th>\n",
       "      <td>-0.032289</td>\n",
       "      <td>1.000000</td>\n",
       "      <td>-0.074853</td>\n",
       "      <td>0.058636</td>\n",
       "      <td>-0.071274</td>\n",
       "      <td>-0.008183</td>\n",
       "      <td>-0.064951</td>\n",
       "      <td>-0.075032</td>\n",
       "    </tr>\n",
       "    <tr>\n",
       "      <th>Lag2</th>\n",
       "      <td>-0.033390</td>\n",
       "      <td>-0.074853</td>\n",
       "      <td>1.000000</td>\n",
       "      <td>-0.075721</td>\n",
       "      <td>0.058382</td>\n",
       "      <td>-0.072499</td>\n",
       "      <td>-0.085513</td>\n",
       "      <td>0.059167</td>\n",
       "    </tr>\n",
       "    <tr>\n",
       "      <th>Lag3</th>\n",
       "      <td>-0.030006</td>\n",
       "      <td>0.058636</td>\n",
       "      <td>-0.075721</td>\n",
       "      <td>1.000000</td>\n",
       "      <td>-0.075396</td>\n",
       "      <td>0.060657</td>\n",
       "      <td>-0.069288</td>\n",
       "      <td>-0.071244</td>\n",
       "    </tr>\n",
       "    <tr>\n",
       "      <th>Lag4</th>\n",
       "      <td>-0.031128</td>\n",
       "      <td>-0.071274</td>\n",
       "      <td>0.058382</td>\n",
       "      <td>-0.075396</td>\n",
       "      <td>1.000000</td>\n",
       "      <td>-0.075675</td>\n",
       "      <td>-0.061075</td>\n",
       "      <td>-0.007826</td>\n",
       "    </tr>\n",
       "    <tr>\n",
       "      <th>Lag5</th>\n",
       "      <td>-0.030519</td>\n",
       "      <td>-0.008183</td>\n",
       "      <td>-0.072499</td>\n",
       "      <td>0.060657</td>\n",
       "      <td>-0.075675</td>\n",
       "      <td>1.000000</td>\n",
       "      <td>-0.058517</td>\n",
       "      <td>0.011013</td>\n",
       "    </tr>\n",
       "    <tr>\n",
       "      <th>Volume</th>\n",
       "      <td>0.841942</td>\n",
       "      <td>-0.064951</td>\n",
       "      <td>-0.085513</td>\n",
       "      <td>-0.069288</td>\n",
       "      <td>-0.061075</td>\n",
       "      <td>-0.058517</td>\n",
       "      <td>1.000000</td>\n",
       "      <td>-0.033078</td>\n",
       "    </tr>\n",
       "    <tr>\n",
       "      <th>Today</th>\n",
       "      <td>-0.032460</td>\n",
       "      <td>-0.075032</td>\n",
       "      <td>0.059167</td>\n",
       "      <td>-0.071244</td>\n",
       "      <td>-0.007826</td>\n",
       "      <td>0.011013</td>\n",
       "      <td>-0.033078</td>\n",
       "      <td>1.000000</td>\n",
       "    </tr>\n",
       "  </tbody>\n",
       "</table>\n",
       "</div>"
      ],
      "text/plain": [
       "            Year      Lag1      Lag2      Lag3      Lag4      Lag5    Volume  \\\n",
       "Year    1.000000 -0.032289 -0.033390 -0.030006 -0.031128 -0.030519  0.841942   \n",
       "Lag1   -0.032289  1.000000 -0.074853  0.058636 -0.071274 -0.008183 -0.064951   \n",
       "Lag2   -0.033390 -0.074853  1.000000 -0.075721  0.058382 -0.072499 -0.085513   \n",
       "Lag3   -0.030006  0.058636 -0.075721  1.000000 -0.075396  0.060657 -0.069288   \n",
       "Lag4   -0.031128 -0.071274  0.058382 -0.075396  1.000000 -0.075675 -0.061075   \n",
       "Lag5   -0.030519 -0.008183 -0.072499  0.060657 -0.075675  1.000000 -0.058517   \n",
       "Volume  0.841942 -0.064951 -0.085513 -0.069288 -0.061075 -0.058517  1.000000   \n",
       "Today  -0.032460 -0.075032  0.059167 -0.071244 -0.007826  0.011013 -0.033078   \n",
       "\n",
       "           Today  \n",
       "Year   -0.032460  \n",
       "Lag1   -0.075032  \n",
       "Lag2    0.059167  \n",
       "Lag3   -0.071244  \n",
       "Lag4   -0.007826  \n",
       "Lag5    0.011013  \n",
       "Volume -0.033078  \n",
       "Today   1.000000  "
      ]
     },
     "execution_count": 5,
     "metadata": {},
     "output_type": "execute_result"
    }
   ],
   "source": [
    "df_week.corr()"
   ]
  },
  {
   "cell_type": "markdown",
   "id": "c05b5e3d",
   "metadata": {},
   "source": [
    "### (b) Use the full data set to perform a logistic regression with Direction as the response and the five lag variables plus Volume as predictors. Use the summary function to print the results. Do any of the predictors appear to be statistically significant? If so, which ones?"
   ]
  },
  {
   "cell_type": "code",
   "execution_count": 6,
   "id": "3af909ca",
   "metadata": {},
   "outputs": [],
   "source": [
    "df_train = df_week[(df_week['Year'] != 2009) & (df_week['Year'] != 2010)]\n",
    "df_test = df_week[(df_week['Year'] == 2009) | (df_week['Year'] == 2010)]"
   ]
  },
  {
   "cell_type": "code",
   "execution_count": 7,
   "id": "6030dd27",
   "metadata": {},
   "outputs": [
    {
     "name": "stdout",
     "output_type": "stream",
     "text": [
      "                 Generalized Linear Model Regression Results                  \n",
      "==============================================================================\n",
      "Dep. Variable:              Direction   No. Observations:                  985\n",
      "Model:                            GLM   Df Residuals:                      979\n",
      "Model Family:                Binomial   Df Model:                            5\n",
      "Link Function:                  Logit   Scale:                          1.0000\n",
      "Method:                          IRLS   Log-Likelihood:                -677.47\n",
      "Date:                Sun, 18 Feb 2024   Deviance:                       1354.9\n",
      "Time:                        14:45:59   Pearson chi2:                     986.\n",
      "No. Iterations:                     4   Pseudo R-squ. (CS):         -0.0002253\n",
      "Covariance Type:            nonrobust                                         \n",
      "==============================================================================\n",
      "                 coef    std err          z      P>|z|      [0.025      0.975]\n",
      "------------------------------------------------------------------------------\n",
      "Lag1          -0.0471      0.029     -1.636      0.102      -0.104       0.009\n",
      "Lag2           0.0622      0.029      2.121      0.034       0.005       0.120\n",
      "Lag3          -0.0011      0.029     -0.039      0.969      -0.058       0.056\n",
      "Lag4          -0.0159      0.029     -0.553      0.580      -0.072       0.040\n",
      "Lag5          -0.0237      0.029     -0.823      0.410      -0.080       0.033\n",
      "Volume         0.0485      0.037      1.294      0.196      -0.025       0.122\n",
      "==============================================================================\n"
     ]
    }
   ],
   "source": [
    "# Filtering train and test data\n",
    "df_train = df_week[(df_week['Year'] != 2009) & (df_week['Year'] != 2010)]\n",
    "df_test = df_week[(df_week['Year'] == 2009) | (df_week['Year'] == 2010)]\n",
    "\n",
    "# Selecting features and target variable for training data\n",
    "X_train = df_train.drop(['Today', 'Year', 'Direction'], axis=1)\n",
    "y_train = (df_train['Direction'] == 'Up').astype(int)\n",
    "X_test = df_test.drop(['Today', 'Year', 'Direction'], axis=1)\n",
    "y_test = (df_test['Direction'] == 'Up').astype(int)\n",
    "\n",
    "# Fitting logistic regression model\n",
    "glm = sm.GLM(y_train, X_train, family=sm.families.Binomial())\n",
    "results = glm.fit()\n",
    "\n",
    "# Summarizing results\n",
    "print(results.summary())"
   ]
  },
  {
   "cell_type": "markdown",
   "id": "b78f3a78",
   "metadata": {},
   "source": [
    " - Lag 2 is significant"
   ]
  },
  {
   "cell_type": "markdown",
   "id": "c86cebbf",
   "metadata": {},
   "source": [
    "### (c). Compute the confusion matrix and overall fraction of correct predictions. Explain what the confusion matrix is telling you about the types of mistakes made by logistic regression"
   ]
  },
  {
   "cell_type": "code",
   "execution_count": 8,
   "id": "8b34461e",
   "metadata": {},
   "outputs": [],
   "source": [
    "# Making predictions on the test set\n",
    "probs = results.predict(X_test)\n",
    "\n",
    "# Assigning labels based on probability threshold\n",
    "preds = np.array([0] * len(df_test))\n",
    "preds[probs > 0.5] = 1\n"
   ]
  },
  {
   "cell_type": "code",
   "execution_count": 9,
   "id": "3d1adc14",
   "metadata": {},
   "outputs": [
    {
     "data": {
      "text/html": [
       "<div>\n",
       "<style scoped>\n",
       "    .dataframe tbody tr th:only-of-type {\n",
       "        vertical-align: middle;\n",
       "    }\n",
       "\n",
       "    .dataframe tbody tr th {\n",
       "        vertical-align: top;\n",
       "    }\n",
       "\n",
       "    .dataframe thead th {\n",
       "        text-align: right;\n",
       "    }\n",
       "</style>\n",
       "<table border=\"1\" class=\"dataframe\">\n",
       "  <thead>\n",
       "    <tr style=\"text-align: right;\">\n",
       "      <th>Truth</th>\n",
       "      <th>0</th>\n",
       "      <th>1</th>\n",
       "    </tr>\n",
       "    <tr>\n",
       "      <th>Predicted</th>\n",
       "      <th></th>\n",
       "      <th></th>\n",
       "    </tr>\n",
       "  </thead>\n",
       "  <tbody>\n",
       "    <tr>\n",
       "      <th>0</th>\n",
       "      <td>6</td>\n",
       "      <td>8</td>\n",
       "    </tr>\n",
       "    <tr>\n",
       "      <th>1</th>\n",
       "      <td>37</td>\n",
       "      <td>53</td>\n",
       "    </tr>\n",
       "  </tbody>\n",
       "</table>\n",
       "</div>"
      ],
      "text/plain": [
       "Truth       0   1\n",
       "Predicted        \n",
       "0           6   8\n",
       "1          37  53"
      ]
     },
     "execution_count": 9,
     "metadata": {},
     "output_type": "execute_result"
    }
   ],
   "source": [
    "confusion_table(preds,y_test)"
   ]
  },
  {
   "cell_type": "markdown",
   "id": "fcee32fc",
   "metadata": {},
   "source": [
    "- True Positives (TP): __53__ (Predicted as 'Up', actually 'Up')\n",
    "- True Negatives (TN): __6__ (Predicted as 'Down', actually 'Down')\n",
    "- False Positives (FP): __8__ (Predicted as 'Up', actually 'Down')\n",
    "- False Negatives (FN): __37__ (Predicted as 'Down', actually 'Up')"
   ]
  },
  {
   "cell_type": "markdown",
   "id": "5b12bc76",
   "metadata": {},
   "source": [
    "### (d) Now fit the logistic regression model using a training data period from 1990 to 2008, with Lag2 as the only predictor. Compute the confusion matrix and the overall fraction of correct predictions for the held out data (that is, the data from 2009 and 2010)"
   ]
  },
  {
   "cell_type": "code",
   "execution_count": 10,
   "id": "295fc21e",
   "metadata": {},
   "outputs": [],
   "source": [
    "df_train = df_week[(df_week['Year'] != 2009) & (df_week['Year'] != 2010)]\n",
    "df_test = df_week[(df_week['Year'] == 2009) | (df_week['Year'] == 2010)]"
   ]
  },
  {
   "cell_type": "code",
   "execution_count": 11,
   "id": "12948b58",
   "metadata": {},
   "outputs": [
    {
     "name": "stdout",
     "output_type": "stream",
     "text": [
      "                 Generalized Linear Model Regression Results                  \n",
      "==============================================================================\n",
      "Dep. Variable:              Direction   No. Observations:                  985\n",
      "Model:                            GLM   Df Residuals:                      984\n",
      "Model Family:                Binomial   Df Model:                            0\n",
      "Link Function:                  Logit   Scale:                          1.0000\n",
      "Method:                          IRLS   Log-Likelihood:                -680.29\n",
      "Date:                Sun, 18 Feb 2024   Deviance:                       1360.6\n",
      "Time:                        14:45:59   Pearson chi2:                     985.\n",
      "No. Iterations:                     4   Pseudo R-squ. (CS):          -0.005986\n",
      "Covariance Type:            nonrobust                                         \n",
      "==============================================================================\n",
      "                 coef    std err          z      P>|z|      [0.025      0.975]\n",
      "------------------------------------------------------------------------------\n",
      "Lag2           0.0629      0.029      2.192      0.028       0.007       0.119\n",
      "==============================================================================\n"
     ]
    }
   ],
   "source": [
    "# Filtering train and test data\n",
    "df_train = df_week[(df_week['Year'] != 2009) & (df_week['Year'] != 2010)]\n",
    "df_test = df_week[(df_week['Year'] == 2009) | (df_week['Year'] == 2010)]\n",
    "\n",
    "# Feature selection\n",
    "X_train = df_train[['Lag2']]  # Selecting Lag2 as the feature\n",
    "y_train = (df_train['Direction'] == 'Up').astype(int)  # Convert 'Direction' to binary labels\n",
    "X_test = df_test[['Lag2']]  # Selecting Lag2 as the feature\n",
    "y_test = (df_test['Direction'] == 'Up').astype(int)  # Convert 'Direction' to binary labels\n",
    "\n",
    "# Applying polynomial feature transformation\n",
    "design = MS(X_train)\n",
    "\n",
    "# Fitting logistic regression model\n",
    "glm = sm.GLM(y_train, X_train, family=sm.families.Binomial())\n",
    "results = glm.fit()\n",
    "\n",
    "# Summarizing results\n",
    "print(results.summary())\n"
   ]
  },
  {
   "cell_type": "code",
   "execution_count": 12,
   "id": "d91a2507",
   "metadata": {},
   "outputs": [],
   "source": [
    "# Making predictions on the test set\n",
    "probs = results.predict(X_test)\n",
    "\n",
    "# Assigning labels based on probability threshold\n",
    "preds = np.array([0] * len(df_test))\n",
    "preds[probs > 0.5] = 1"
   ]
  },
  {
   "cell_type": "code",
   "execution_count": 13,
   "id": "4607a8ea",
   "metadata": {},
   "outputs": [
    {
     "data": {
      "text/html": [
       "<div>\n",
       "<style scoped>\n",
       "    .dataframe tbody tr th:only-of-type {\n",
       "        vertical-align: middle;\n",
       "    }\n",
       "\n",
       "    .dataframe tbody tr th {\n",
       "        vertical-align: top;\n",
       "    }\n",
       "\n",
       "    .dataframe thead th {\n",
       "        text-align: right;\n",
       "    }\n",
       "</style>\n",
       "<table border=\"1\" class=\"dataframe\">\n",
       "  <thead>\n",
       "    <tr style=\"text-align: right;\">\n",
       "      <th>Truth</th>\n",
       "      <th>0</th>\n",
       "      <th>1</th>\n",
       "    </tr>\n",
       "    <tr>\n",
       "      <th>Predicted</th>\n",
       "      <th></th>\n",
       "      <th></th>\n",
       "    </tr>\n",
       "  </thead>\n",
       "  <tbody>\n",
       "    <tr>\n",
       "      <th>0</th>\n",
       "      <td>20</td>\n",
       "      <td>24</td>\n",
       "    </tr>\n",
       "    <tr>\n",
       "      <th>1</th>\n",
       "      <td>23</td>\n",
       "      <td>37</td>\n",
       "    </tr>\n",
       "  </tbody>\n",
       "</table>\n",
       "</div>"
      ],
      "text/plain": [
       "Truth       0   1\n",
       "Predicted        \n",
       "0          20  24\n",
       "1          23  37"
      ]
     },
     "execution_count": 13,
     "metadata": {},
     "output_type": "execute_result"
    }
   ],
   "source": [
    "confusion_table(preds,y_test)"
   ]
  },
  {
   "cell_type": "code",
   "execution_count": 14,
   "id": "df5d17e8",
   "metadata": {},
   "outputs": [
    {
     "name": "stdout",
     "output_type": "stream",
     "text": [
      "accuracy_score: 0.548\n"
     ]
    }
   ],
   "source": [
    "print(f'accuracy_score: {accuracy_score(preds,y_test):.3}')"
   ]
  },
  {
   "cell_type": "markdown",
   "id": "d5fce7d6",
   "metadata": {},
   "source": [
    "### (e) Repeat (d) using LDA.\n"
   ]
  },
  {
   "cell_type": "code",
   "execution_count": 15,
   "id": "68a8fce4",
   "metadata": {},
   "outputs": [
    {
     "data": {
      "text/html": [
       "<div>\n",
       "<style scoped>\n",
       "    .dataframe tbody tr th:only-of-type {\n",
       "        vertical-align: middle;\n",
       "    }\n",
       "\n",
       "    .dataframe tbody tr th {\n",
       "        vertical-align: top;\n",
       "    }\n",
       "\n",
       "    .dataframe thead th {\n",
       "        text-align: right;\n",
       "    }\n",
       "</style>\n",
       "<table border=\"1\" class=\"dataframe\">\n",
       "  <thead>\n",
       "    <tr style=\"text-align: right;\">\n",
       "      <th>Truth</th>\n",
       "      <th>0</th>\n",
       "      <th>1</th>\n",
       "    </tr>\n",
       "    <tr>\n",
       "      <th>Predicted</th>\n",
       "      <th></th>\n",
       "      <th></th>\n",
       "    </tr>\n",
       "  </thead>\n",
       "  <tbody>\n",
       "    <tr>\n",
       "      <th>0</th>\n",
       "      <td>9</td>\n",
       "      <td>5</td>\n",
       "    </tr>\n",
       "    <tr>\n",
       "      <th>1</th>\n",
       "      <td>34</td>\n",
       "      <td>56</td>\n",
       "    </tr>\n",
       "  </tbody>\n",
       "</table>\n",
       "</div>"
      ],
      "text/plain": [
       "Truth       0   1\n",
       "Predicted        \n",
       "0           9   5\n",
       "1          34  56"
      ]
     },
     "execution_count": 15,
     "metadata": {},
     "output_type": "execute_result"
    }
   ],
   "source": [
    "lda = LDA(store_covariance=True)\n",
    "lda.fit(X_train, y_train)\n",
    "\n",
    "lda_preds = lda.predict(X_test)\n",
    "confusion_table(lda_preds,y_test)"
   ]
  },
  {
   "cell_type": "code",
   "execution_count": 16,
   "id": "d780647d",
   "metadata": {},
   "outputs": [
    {
     "name": "stdout",
     "output_type": "stream",
     "text": [
      "accuracy_score: 0.625\n"
     ]
    }
   ],
   "source": [
    "print(f'accuracy_score: {accuracy_score(lda_preds,y_test):.3}')"
   ]
  },
  {
   "cell_type": "markdown",
   "id": "777fb037",
   "metadata": {},
   "source": [
    "### (f) Repeat (d) using QDA.\n"
   ]
  },
  {
   "cell_type": "code",
   "execution_count": 17,
   "id": "a61cd6d6",
   "metadata": {},
   "outputs": [
    {
     "data": {
      "text/html": [
       "<div>\n",
       "<style scoped>\n",
       "    .dataframe tbody tr th:only-of-type {\n",
       "        vertical-align: middle;\n",
       "    }\n",
       "\n",
       "    .dataframe tbody tr th {\n",
       "        vertical-align: top;\n",
       "    }\n",
       "\n",
       "    .dataframe thead th {\n",
       "        text-align: right;\n",
       "    }\n",
       "</style>\n",
       "<table border=\"1\" class=\"dataframe\">\n",
       "  <thead>\n",
       "    <tr style=\"text-align: right;\">\n",
       "      <th>Truth</th>\n",
       "      <th>0</th>\n",
       "      <th>1</th>\n",
       "    </tr>\n",
       "    <tr>\n",
       "      <th>Predicted</th>\n",
       "      <th></th>\n",
       "      <th></th>\n",
       "    </tr>\n",
       "  </thead>\n",
       "  <tbody>\n",
       "    <tr>\n",
       "      <th>0</th>\n",
       "      <td>0</td>\n",
       "      <td>0</td>\n",
       "    </tr>\n",
       "    <tr>\n",
       "      <th>1</th>\n",
       "      <td>43</td>\n",
       "      <td>61</td>\n",
       "    </tr>\n",
       "  </tbody>\n",
       "</table>\n",
       "</div>"
      ],
      "text/plain": [
       "Truth       0   1\n",
       "Predicted        \n",
       "0           0   0\n",
       "1          43  61"
      ]
     },
     "execution_count": 17,
     "metadata": {},
     "output_type": "execute_result"
    }
   ],
   "source": [
    "qda = QDA(store_covariance=True)\n",
    "qda.fit(X_train, y_train)\n",
    "\n",
    "qda_preds = qda.predict(X_test)\n",
    "confusion_table(qda_preds,y_test)"
   ]
  },
  {
   "cell_type": "code",
   "execution_count": 18,
   "id": "047a2f23",
   "metadata": {},
   "outputs": [
    {
     "name": "stdout",
     "output_type": "stream",
     "text": [
      "accuracy_score: 0.587\n"
     ]
    }
   ],
   "source": [
    "print(f'accuracy_score: {accuracy_score(qda_preds,y_test):.3}')"
   ]
  },
  {
   "cell_type": "markdown",
   "id": "af7c98b3",
   "metadata": {},
   "source": [
    "### (g) Repeat (d) using KNN with K = 1.\n"
   ]
  },
  {
   "cell_type": "code",
   "execution_count": 19,
   "id": "a91d4295",
   "metadata": {},
   "outputs": [
    {
     "data": {
      "text/html": [
       "<div>\n",
       "<style scoped>\n",
       "    .dataframe tbody tr th:only-of-type {\n",
       "        vertical-align: middle;\n",
       "    }\n",
       "\n",
       "    .dataframe tbody tr th {\n",
       "        vertical-align: top;\n",
       "    }\n",
       "\n",
       "    .dataframe thead th {\n",
       "        text-align: right;\n",
       "    }\n",
       "</style>\n",
       "<table border=\"1\" class=\"dataframe\">\n",
       "  <thead>\n",
       "    <tr style=\"text-align: right;\">\n",
       "      <th>Truth</th>\n",
       "      <th>0</th>\n",
       "      <th>1</th>\n",
       "    </tr>\n",
       "    <tr>\n",
       "      <th>Predicted</th>\n",
       "      <th></th>\n",
       "      <th></th>\n",
       "    </tr>\n",
       "  </thead>\n",
       "  <tbody>\n",
       "    <tr>\n",
       "      <th>0</th>\n",
       "      <td>22</td>\n",
       "      <td>31</td>\n",
       "    </tr>\n",
       "    <tr>\n",
       "      <th>1</th>\n",
       "      <td>21</td>\n",
       "      <td>30</td>\n",
       "    </tr>\n",
       "  </tbody>\n",
       "</table>\n",
       "</div>"
      ],
      "text/plain": [
       "Truth       0   1\n",
       "Predicted        \n",
       "0          22  31\n",
       "1          21  30"
      ]
     },
     "execution_count": 19,
     "metadata": {},
     "output_type": "execute_result"
    }
   ],
   "source": [
    "knn1 = KNeighborsClassifier(n_neighbors=1)\n",
    "knn1.fit(X_train, y_train)\n",
    "knn1_pred = knn1.predict(X_test)\n",
    "confusion_table(knn1_pred, y_test)"
   ]
  },
  {
   "cell_type": "code",
   "execution_count": 20,
   "id": "5a5b2443",
   "metadata": {},
   "outputs": [
    {
     "name": "stdout",
     "output_type": "stream",
     "text": [
      "accuracy_score: 0.5\n"
     ]
    }
   ],
   "source": [
    "print(f'accuracy_score: {accuracy_score(knn1_pred,y_test):.3}')"
   ]
  },
  {
   "cell_type": "markdown",
   "id": "f534c6c1",
   "metadata": {},
   "source": [
    "### (h) Repeat (d) using naive Bayes.\n"
   ]
  },
  {
   "cell_type": "code",
   "execution_count": 21,
   "id": "944cfc82",
   "metadata": {},
   "outputs": [
    {
     "data": {
      "text/html": [
       "<div>\n",
       "<style scoped>\n",
       "    .dataframe tbody tr th:only-of-type {\n",
       "        vertical-align: middle;\n",
       "    }\n",
       "\n",
       "    .dataframe tbody tr th {\n",
       "        vertical-align: top;\n",
       "    }\n",
       "\n",
       "    .dataframe thead th {\n",
       "        text-align: right;\n",
       "    }\n",
       "</style>\n",
       "<table border=\"1\" class=\"dataframe\">\n",
       "  <thead>\n",
       "    <tr style=\"text-align: right;\">\n",
       "      <th>Truth</th>\n",
       "      <th>0</th>\n",
       "      <th>1</th>\n",
       "    </tr>\n",
       "    <tr>\n",
       "      <th>Predicted</th>\n",
       "      <th></th>\n",
       "      <th></th>\n",
       "    </tr>\n",
       "  </thead>\n",
       "  <tbody>\n",
       "    <tr>\n",
       "      <th>0</th>\n",
       "      <td>0</td>\n",
       "      <td>0</td>\n",
       "    </tr>\n",
       "    <tr>\n",
       "      <th>1</th>\n",
       "      <td>43</td>\n",
       "      <td>61</td>\n",
       "    </tr>\n",
       "  </tbody>\n",
       "</table>\n",
       "</div>"
      ],
      "text/plain": [
       "Truth       0   1\n",
       "Predicted        \n",
       "0           0   0\n",
       "1          43  61"
      ]
     },
     "execution_count": 21,
     "metadata": {},
     "output_type": "execute_result"
    }
   ],
   "source": [
    "NB = GaussianNB()\n",
    "NB.fit(X_train, y_train)\n",
    "nb_preds = NB.predict(X_test)\n",
    "confusion_table(nb_preds, y_test)"
   ]
  },
  {
   "cell_type": "code",
   "execution_count": 22,
   "id": "3afc0c2e",
   "metadata": {
    "scrolled": true
   },
   "outputs": [
    {
     "name": "stdout",
     "output_type": "stream",
     "text": [
      "accuracy_score: 0.587\n"
     ]
    }
   ],
   "source": [
    "print(f'accuracy_score: {accuracy_score(nb_preds, y_test):.3}')"
   ]
  },
  {
   "cell_type": "markdown",
   "id": "c37b22d8",
   "metadata": {},
   "source": [
    "### (i) Which of these methods appears to provide the best results on this data?"
   ]
  },
  {
   "cell_type": "markdown",
   "id": "596eec32",
   "metadata": {},
   "source": [
    "- LDA"
   ]
  },
  {
   "cell_type": "markdown",
   "id": "f8f2af99",
   "metadata": {},
   "source": [
    "### (j)  Experiment with different combinations of predictors, including possible transformations and interactions, for each of the methods. Report the variables, method, and associated confusion matrix that appears to provide the best results on the held out data. Note that you should also experiment with values for K in the KNN classifier"
   ]
  },
  {
   "cell_type": "markdown",
   "id": "7ce43d3f",
   "metadata": {},
   "source": [
    "___Log-Reg-Expirement___"
   ]
  },
  {
   "cell_type": "code",
   "execution_count": 23,
   "id": "99f5acb3",
   "metadata": {},
   "outputs": [
    {
     "name": "stdout",
     "output_type": "stream",
     "text": [
      "Loaded saved results. Best AIC Score: -856.9377002757166\n",
      "Best Feature Set: ('Lag2', 'Lag4', 'Volume', 'Lag1*Lag3', 'Lag1*Lag5', 'Lag2*Lag3', 'Lag2*Lag5', 'Lag3*Lag4', 'Lag3*Volume', 'Lag4*Lag5', 'Lag4*Volume')\n"
     ]
    }
   ],
   "source": [
    "import numpy as np\n",
    "import pandas as pd\n",
    "from sklearn.linear_model import LogisticRegression\n",
    "import pickle\n",
    "import os\n",
    "from itertools import combinations\n",
    "from tqdm import tqdm\n",
    "\n",
    "# Assuming df_train and y_train are your DataFrame and target variable\n",
    "\n",
    "# Check for saved results before running the expensive computation\n",
    "results_file_path = 'log_model_evaluation_results.pkl'\n",
    "\n",
    "def save_results(results, best_aic, best_features, file_path):\n",
    "    with open(file_path, 'wb') as f:\n",
    "        pickle.dump({'results': results, 'best_aic': best_aic, 'best_features': best_features}, f)\n",
    "\n",
    "def load_results(file_path):\n",
    "    with open(file_path, 'rb') as f:\n",
    "        data = pickle.load(f)\n",
    "    return data['results'], data['best_aic'], data['best_features']\n",
    "\n",
    "if os.path.exists(results_file_path):\n",
    "    results, best_aic, best_features = load_results(results_file_path)\n",
    "    print(f\"Loaded saved results. Best AIC Score: {best_aic}\")\n",
    "    print(f\"Best Feature Set: {best_features}\")\n",
    "else:\n",
    "    # Original features\n",
    "    feature_names = ['Lag1', 'Lag2', 'Lag3', 'Lag4', 'Lag5', 'Volume']\n",
    "\n",
    "    # Generate pairwise multiplications\n",
    "    pairwise_multiplications = []\n",
    "    for i in range(len(feature_names)):\n",
    "        for j in range(i+1, len(feature_names)):\n",
    "            pairwise_multiplications.append(f'{feature_names[i]}*{feature_names[j]}')\n",
    "\n",
    "    # Assuming df_train is your DataFrame from which X_train is derived\n",
    "    X_train = df_train.copy()\n",
    "\n",
    "    # Create interaction terms in X_train\n",
    "    for term in pairwise_multiplications:\n",
    "        factor1, factor2 = term.split('*')\n",
    "        X_train[term] = X_train[factor1] * X_train[factor2]\n",
    "\n",
    "    # Append the pairwise multiplications to the original list\n",
    "    feature_names += pairwise_multiplications\n",
    "\n",
    "    # Generate all possible feature combinations for a given range of feature set sizes\n",
    "    feature_sets = []\n",
    "    for L in range(1, len(feature_names) + 1):\n",
    "        for subset in combinations(feature_names, L):\n",
    "            feature_sets.append(subset)\n",
    "\n",
    "    # Placeholder for best AIC score and corresponding feature set\n",
    "    best_aic = np.inf\n",
    "    best_features = None\n",
    "\n",
    "    # Prepare to collect AIC scores and feature sets\n",
    "    results = []\n",
    "\n",
    "    # Iterate over feature sets with progress tracking\n",
    "    for subset in tqdm(feature_sets, desc=\"Evaluating Models\"):\n",
    "        X_subset = X_train[list(subset)]\n",
    "        model = LogisticRegression(max_iter=10000)\n",
    "        model.fit(X_subset, y_train)\n",
    "        \n",
    "        # Assuming aic_scorer is a function that returns the AIC score\n",
    "        aic_score = aic_scorer(model, X_subset, y_train)\n",
    "        \n",
    "        # Store results\n",
    "        results.append((aic_score, subset))\n",
    "        \n",
    "        # Update best score and features if current set is better\n",
    "        if aic_score < best_aic:\n",
    "            best_aic = aic_score\n",
    "            best_features = subset\n",
    "\n",
    "    print(f\"Best AIC Score: {best_aic}\")\n",
    "    print(f\"Best Feature Set: {best_features}\")\n",
    "\n",
    "    # Save the results\n",
    "    save_results(results, best_aic, best_features, results_file_path)"
   ]
  },
  {
   "cell_type": "code",
   "execution_count": 24,
   "id": "9c31306b",
   "metadata": {},
   "outputs": [],
   "source": [
    "# Create interaction terms\n",
    "df_week['Lag1*Lag3'] = df_week['Lag1'] * df_week['Lag3']\n",
    "df_week['Lag1*Lag5'] = df_week['Lag1'] * df_week['Lag5']\n",
    "df_week['Lag2*Lag3'] = df_week['Lag2'] * df_week['Lag3'] \n",
    "df_week['Lag2*Lag5'] = df_week['Lag2'] * df_week['Lag5'] \n",
    "df_week['Lag3*Lag4'] = df_week['Lag3'] * df_week['Lag4'] \n",
    "df_week['Lag3*Volume'] = df_week['Lag3'] * df_week['Volume'] \n",
    "df_week['Lag4*Lag5'] = df_week['Lag4'] * df_week['Lag5'] \n",
    "df_week['Lag4*Volume'] = df_week['Lag4'] * df_week['Volume']\n",
    "# Repeat for all interaction terms...\n",
    "\n",
    "# Define features and target\n",
    "df_train = df_week[(df_week['Year'] != 2009) & (df_week['Year'] != 2010)]\n",
    "df_test = df_week[(df_week['Year'] == 2009) | (df_week['Year'] == 2010)]\n",
    "\n",
    "# Feature selection for train and test datasets\n",
    "features = ['Lag2', 'Lag4', 'Volume', 'Lag1*Lag3', 'Lag1*Lag5', 'Lag2*Lag3', 'Lag2*Lag5', 'Lag3*Lag4', 'Lag3*Volume', 'Lag4*Lag5', 'Lag4*Volume']\n",
    "X_train = df_train[features]\n",
    "y_train = (df_train['Direction'] == 'Up').astype(int)  # Converting 'Direction' to binary labels (1 for 'Up', 0 otherwise)\n",
    "\n",
    "X_test = df_test[features]\n",
    "y_test = (df_test['Direction'] == 'Up').astype(int)  # Converting 'Direction' to binary labels (1 for 'Up', 0 otherwise)\n",
    "\n",
    "# Now X_train, y_train, X_test, and y_test are correctly aligned with their respective datasets"
   ]
  },
  {
   "cell_type": "code",
   "execution_count": 25,
   "id": "fe78b952",
   "metadata": {},
   "outputs": [
    {
     "name": "stdout",
     "output_type": "stream",
     "text": [
      "                 Generalized Linear Model Regression Results                  \n",
      "==============================================================================\n",
      "Dep. Variable:              Direction   No. Observations:                  985\n",
      "Model:                            GLM   Df Residuals:                      974\n",
      "Model Family:                Binomial   Df Model:                           10\n",
      "Link Function:                  Logit   Scale:                          1.0000\n",
      "Method:                          IRLS   Log-Likelihood:                -675.36\n",
      "Date:                Sun, 18 Feb 2024   Deviance:                       1350.7\n",
      "Time:                        14:46:00   Pearson chi2:                     984.\n",
      "No. Iterations:                     4   Pseudo R-squ. (CS):           0.004046\n",
      "Covariance Type:            nonrobust                                         \n",
      "===============================================================================\n",
      "                  coef    std err          z      P>|z|      [0.025      0.975]\n",
      "-------------------------------------------------------------------------------\n",
      "Lag2            0.0650      0.031      2.086      0.037       0.004       0.126\n",
      "Lag4           -0.0370      0.041     -0.901      0.368      -0.118       0.044\n",
      "Volume          0.0665      0.040      1.654      0.098      -0.012       0.145\n",
      "Lag1*Lag3       0.0140      0.010      1.346      0.178      -0.006       0.034\n",
      "Lag1*Lag5      -0.0158      0.011     -1.401      0.161      -0.038       0.006\n",
      "Lag2*Lag3       0.0039      0.008      0.468      0.640      -0.012       0.020\n",
      "Lag2*Lag5      -0.0034      0.009     -0.373      0.709      -0.021       0.014\n",
      "Lag3*Lag4       0.0167      0.009      1.831      0.067      -0.001       0.034\n",
      "Lag3*Volume     0.0128      0.014      0.905      0.365      -0.015       0.040\n",
      "Lag4*Lag5      -0.0057      0.010     -0.586      0.558      -0.025       0.013\n",
      "Lag4*Volume     0.0106      0.018      0.603      0.547      -0.024       0.045\n",
      "===============================================================================\n"
     ]
    }
   ],
   "source": [
    "glm = sm.GLM(y_train, X_train, family=sm.families.Binomial())\n",
    "results = glm.fit()\n",
    "\n",
    "# Summarizing results\n",
    "print(results.summary())\n"
   ]
  },
  {
   "cell_type": "code",
   "execution_count": 26,
   "id": "54faa0e4",
   "metadata": {},
   "outputs": [],
   "source": [
    "# Making predictions on the test set\n",
    "probs = results.predict(X_test)\n",
    "\n",
    "# Assigning labels based on probability threshold\n",
    "preds = np.array([0] * len(df_test))\n",
    "preds[probs > 0.5] = 1"
   ]
  },
  {
   "cell_type": "code",
   "execution_count": 27,
   "id": "49b23357",
   "metadata": {},
   "outputs": [
    {
     "data": {
      "text/html": [
       "<div>\n",
       "<style scoped>\n",
       "    .dataframe tbody tr th:only-of-type {\n",
       "        vertical-align: middle;\n",
       "    }\n",
       "\n",
       "    .dataframe tbody tr th {\n",
       "        vertical-align: top;\n",
       "    }\n",
       "\n",
       "    .dataframe thead th {\n",
       "        text-align: right;\n",
       "    }\n",
       "</style>\n",
       "<table border=\"1\" class=\"dataframe\">\n",
       "  <thead>\n",
       "    <tr style=\"text-align: right;\">\n",
       "      <th>Truth</th>\n",
       "      <th>0</th>\n",
       "      <th>1</th>\n",
       "    </tr>\n",
       "    <tr>\n",
       "      <th>Predicted</th>\n",
       "      <th></th>\n",
       "      <th></th>\n",
       "    </tr>\n",
       "  </thead>\n",
       "  <tbody>\n",
       "    <tr>\n",
       "      <th>0</th>\n",
       "      <td>7</td>\n",
       "      <td>6</td>\n",
       "    </tr>\n",
       "    <tr>\n",
       "      <th>1</th>\n",
       "      <td>36</td>\n",
       "      <td>55</td>\n",
       "    </tr>\n",
       "  </tbody>\n",
       "</table>\n",
       "</div>"
      ],
      "text/plain": [
       "Truth       0   1\n",
       "Predicted        \n",
       "0           7   6\n",
       "1          36  55"
      ]
     },
     "execution_count": 27,
     "metadata": {},
     "output_type": "execute_result"
    }
   ],
   "source": [
    "confusion_table(preds,y_test)"
   ]
  },
  {
   "cell_type": "code",
   "execution_count": 28,
   "id": "b4c56230",
   "metadata": {},
   "outputs": [
    {
     "name": "stdout",
     "output_type": "stream",
     "text": [
      "accuracy_score: 0.596\n"
     ]
    }
   ],
   "source": [
    "print(f'accuracy_score: {accuracy_score(preds,y_test):.3}')"
   ]
  },
  {
   "cell_type": "markdown",
   "id": "43323c9f",
   "metadata": {},
   "source": [
    "___LDA-Expirement___"
   ]
  },
  {
   "cell_type": "code",
   "execution_count": 29,
   "id": "cdb3a4f5",
   "metadata": {
    "scrolled": true
   },
   "outputs": [
    {
     "name": "stdout",
     "output_type": "stream",
     "text": [
      "Loaded saved results. Best Cross-Validation Accuracy: 0.5715736040609137\n",
      "Best Feature Set: ('Lag2', 'Lag4', 'Lag2*Lag5', 'Lag3*Lag4', 'Lag4*Lag5', 'Lag5*Volume')\n"
     ]
    }
   ],
   "source": [
    "# Check for saved results before running the expensive computation\n",
    "results_file_path = 'lda_model_evaluation_results.pkl'\n",
    "\n",
    "if os.path.exists(results_file_path):\n",
    "    results, best_score, best_features = load_results(results_file_path)\n",
    "    print(f\"Loaded saved results. Best Cross-Validation Accuracy: {best_score}\")\n",
    "    print(f\"Best Feature Set: {best_features}\")\n",
    "else:\n",
    "    # [Include your feature names and interaction term generation code here]\n",
    "\n",
    "    # Generate all possible feature combinations for a given range of feature set sizes\n",
    "    feature_sets = []\n",
    "    for L in range(1, len(feature_names) + 1):\n",
    "        for subset in combinations(feature_names, L):\n",
    "            feature_sets.append(subset)\n",
    "\n",
    "    # Placeholder for best cross-validation score and corresponding feature set\n",
    "    best_score = 0\n",
    "    best_features = None\n",
    "\n",
    "    # Prepare to collect scores and feature sets\n",
    "    results = []\n",
    "\n",
    "    # Iterate over feature sets with progress tracking\n",
    "    for subset in tqdm(feature_sets, desc=\"Evaluating Models\"):\n",
    "        X_subset = X_train[list(subset)]\n",
    "        model = LDA()\n",
    "        \n",
    "        # Obtain cross-validation accuracy for the current feature set\n",
    "        scores = cross_val_score(model, X_subset, y_train, cv=5, scoring='accuracy')\n",
    "        mean_score = np.mean(scores)\n",
    "        \n",
    "        # Store results\n",
    "        results.append((mean_score, subset))\n",
    "        \n",
    "        # Update best score and features if current set is better\n",
    "        if mean_score > best_score:\n",
    "            best_score = mean_score\n",
    "            best_features = subset\n",
    "\n",
    "    print(f\"Best Cross-Validation Accuracy: {best_score}\")\n",
    "    print(f\"Best Feature Set: {best_features}\")\n",
    "\n",
    "    # Save the results\n",
    "    save_results(results, best_score, best_features, results_file_path)\n"
   ]
  },
  {
   "cell_type": "code",
   "execution_count": 30,
   "id": "f0b320ce",
   "metadata": {
    "scrolled": true
   },
   "outputs": [],
   "source": [
    "# Step 1: Load the data (simulated by a placeholder function)\n",
    "df_week = load_data('Weekly')\n",
    "\n",
    "# Step 2: Create interaction terms\n",
    "df_week['Lag2*Lag5'] = df_week['Lag2'] * df_week['Lag5']\n",
    "df_week['Lag3*Lag4'] = df_week['Lag3'] * df_week['Lag4']\n",
    "df_week['Lag4*Lag5'] = df_week['Lag4'] * df_week['Lag5']\n",
    "df_week['Lag5*Volume'] = df_week['Lag5'] * df_week['Volume']\n",
    "\n",
    "# Step 3: Filter training and testing data (assuming the year column exists and you want to exclude specific years for the test)\n",
    "df_train = df_week[(df_week['Year'] != 2009) & (df_week['Year'] != 2010)]\n",
    "df_test = df_week[(df_week['Year'] == 2009) | (df_week['Year'] == 2010)]\n",
    "\n",
    "# Step 4: Feature selection\n",
    "features = ['Lag2', 'Lag4', 'Lag2*Lag5', 'Lag3*Lag4', 'Lag4*Lag5', 'Lag5*Volume']\n",
    "X_train = df_train[features]\n",
    "y_train = (df_train['Direction'] == 'Up').astype(int)  # Assuming 'Direction' is the target variable and 'Up' indicates the positive class\n",
    "X_test = df_test[features]\n",
    "y_test = (df_test['Direction'] == 'Up').astype(int)\n",
    "\n",
    "# Step 5: Apply QDA\n",
    "lda = LDA()\n",
    "lda.fit(X_train, y_train)\n",
    "\n",
    "# Make predictions and evaluate\n",
    "lda_preds = lda.predict(X_test)"
   ]
  },
  {
   "cell_type": "code",
   "execution_count": 31,
   "id": "3938df38",
   "metadata": {},
   "outputs": [
    {
     "name": "stdout",
     "output_type": "stream",
     "text": [
      "accuracy_score: 0.644\n"
     ]
    }
   ],
   "source": [
    "print(f'accuracy_score: {accuracy_score(lda_preds,y_test):.3}')"
   ]
  },
  {
   "cell_type": "code",
   "execution_count": 32,
   "id": "0d0e59c1",
   "metadata": {},
   "outputs": [
    {
     "data": {
      "text/html": [
       "<div>\n",
       "<style scoped>\n",
       "    .dataframe tbody tr th:only-of-type {\n",
       "        vertical-align: middle;\n",
       "    }\n",
       "\n",
       "    .dataframe tbody tr th {\n",
       "        vertical-align: top;\n",
       "    }\n",
       "\n",
       "    .dataframe thead th {\n",
       "        text-align: right;\n",
       "    }\n",
       "</style>\n",
       "<table border=\"1\" class=\"dataframe\">\n",
       "  <thead>\n",
       "    <tr style=\"text-align: right;\">\n",
       "      <th>Truth</th>\n",
       "      <th>0</th>\n",
       "      <th>1</th>\n",
       "    </tr>\n",
       "    <tr>\n",
       "      <th>Predicted</th>\n",
       "      <th></th>\n",
       "      <th></th>\n",
       "    </tr>\n",
       "  </thead>\n",
       "  <tbody>\n",
       "    <tr>\n",
       "      <th>0</th>\n",
       "      <td>11</td>\n",
       "      <td>32</td>\n",
       "    </tr>\n",
       "    <tr>\n",
       "      <th>1</th>\n",
       "      <td>5</td>\n",
       "      <td>56</td>\n",
       "    </tr>\n",
       "  </tbody>\n",
       "</table>\n",
       "</div>"
      ],
      "text/plain": [
       "Truth       0   1\n",
       "Predicted        \n",
       "0          11  32\n",
       "1           5  56"
      ]
     },
     "execution_count": 32,
     "metadata": {},
     "output_type": "execute_result"
    }
   ],
   "source": [
    "confusion_table(y_test, lda_preds)"
   ]
  },
  {
   "cell_type": "markdown",
   "id": "b876b099",
   "metadata": {},
   "source": [
    "___QDA-Expirement___"
   ]
  },
  {
   "cell_type": "code",
   "execution_count": 33,
   "id": "d514d204",
   "metadata": {},
   "outputs": [
    {
     "name": "stdout",
     "output_type": "stream",
     "text": [
      "Loaded saved results. Best Cross-Validation Accuracy: 0.5675126903553299\n",
      "Best Feature Set: ('Lag1', 'Lag3', 'Lag4', 'Lag3*Lag4', 'Lag3*Volume', 'Lag4*Volume')\n"
     ]
    }
   ],
   "source": [
    "# Assuming df_train and y_train are your DataFrame and target variable\n",
    "\n",
    "# Check for saved results before running the expensive computation\n",
    "results_file_path = 'qda_model_evaluation_results.pkl'\n",
    "\n",
    "if os.path.exists(results_file_path):\n",
    "    results, best_score, best_features = load_results(results_file_path)\n",
    "    print(f\"Loaded saved results. Best Cross-Validation Accuracy: {best_score}\")\n",
    "    print(f\"Best Feature Set: {best_features}\")\n",
    "else:\n",
    "    # [Include your feature names and interaction term generation code here]\n",
    "\n",
    "    # Generate all possible feature combinations for a given range of feature set sizes\n",
    "    feature_sets = []\n",
    "    for L in range(1, len(feature_names) + 1):\n",
    "        for subset in combinations(feature_names, L):\n",
    "            feature_sets.append(subset)\n",
    "\n",
    "    # Placeholder for best cross-validation score and corresponding feature set\n",
    "    best_score = 0\n",
    "    best_features = None\n",
    "\n",
    "    # Prepare to collect scores and feature sets\n",
    "    results = []\n",
    "\n",
    "    # Iterate over feature sets with progress tracking\n",
    "    for subset in tqdm(feature_sets, desc=\"Evaluating Models\"):\n",
    "        X_subset = X_train[list(subset)]\n",
    "        model = QDA()\n",
    "        \n",
    "        # Obtain cross-validation accuracy for the current feature set\n",
    "        scores = cross_val_score(model, X_subset, y_train, cv=5, scoring='accuracy')\n",
    "        mean_score = np.mean(scores)\n",
    "        \n",
    "        # Store results\n",
    "        results.append((mean_score, subset))\n",
    "        \n",
    "        # Update best score and features if current set is better\n",
    "        if mean_score > best_score:\n",
    "            best_score = mean_score\n",
    "            best_features = subset\n",
    "\n",
    "    print(f\"Best Cross-Validation Accuracy: {best_score}\")\n",
    "    print(f\"Best Feature Set: {best_features}\")\n",
    "\n",
    "    # Save the results\n",
    "    save_results(results, best_score, best_features, results_file_path)\n"
   ]
  },
  {
   "cell_type": "code",
   "execution_count": 34,
   "id": "b1057320",
   "metadata": {},
   "outputs": [],
   "source": [
    "from sklearn.discriminant_analysis import QuadraticDiscriminantAnalysis as QDA\n",
    "from sklearn.metrics import confusion_matrix\n",
    "df_week = load_data('Weekly')\n",
    "\n",
    "# Step 1: Create interaction terms\n",
    "df_week['Lag3*Lag4'] = df_week['Lag3'] * df_week['Lag4']\n",
    "df_week['Lag3*Volume'] = df_week['Lag3'] * df_week['Volume']\n",
    "df_week['Lag4*Volume'] = df_week['Lag4'] * df_week['Volume']\n",
    "\n",
    "# Assuming you want to manually split the data based on years or other criteria\n",
    "# If you haven't already split the data, you can randomly split it using train_test_split (shown in previous examples)\n",
    "\n",
    "# Step 2: Manual split or random split (if manual split is not required, use train_test_split from sklearn.model_selection)\n",
    "# Example of a manual split, replace with your criteria\n",
    "df_train = df_week[(df_week['Year'] != 2009) & (df_week['Year'] != 2010)]\n",
    "df_test = df_week[(df_week['Year'] == 2009) | (df_week['Year'] == 2010)]\n",
    "\n",
    "# Step 3: Feature selection\n",
    "features = ['Lag1', 'Lag3', 'Lag4', 'Lag3*Lag4', 'Lag3*Volume', 'Lag4*Volume']\n",
    "X_train = df_train[features]\n",
    "y_train = (df_train['Direction'] == 'Up').astype(int)  # Convert 'Direction' to binary labels\n",
    "X_test = df_test[features]\n",
    "y_test = (df_test['Direction'] == 'Up').astype(int)  # Convert 'Direction' to binary labels\n",
    "\n",
    "# Step 4: Apply QDA\n",
    "qda = QDA()\n",
    "qda.fit(X_train, y_train)\n",
    "\n",
    "# Make predictions and evaluate\n",
    "qda_preds = qda.predict(X_test)"
   ]
  },
  {
   "cell_type": "code",
   "execution_count": 35,
   "id": "661a5fed",
   "metadata": {},
   "outputs": [
    {
     "name": "stdout",
     "output_type": "stream",
     "text": [
      "accuracy_score: 0.442\n"
     ]
    }
   ],
   "source": [
    "print(f'accuracy_score: {accuracy_score(qda_preds,y_test):.3}')"
   ]
  },
  {
   "cell_type": "code",
   "execution_count": 36,
   "id": "6db726ac",
   "metadata": {},
   "outputs": [
    {
     "data": {
      "text/html": [
       "<div>\n",
       "<style scoped>\n",
       "    .dataframe tbody tr th:only-of-type {\n",
       "        vertical-align: middle;\n",
       "    }\n",
       "\n",
       "    .dataframe tbody tr th {\n",
       "        vertical-align: top;\n",
       "    }\n",
       "\n",
       "    .dataframe thead th {\n",
       "        text-align: right;\n",
       "    }\n",
       "</style>\n",
       "<table border=\"1\" class=\"dataframe\">\n",
       "  <thead>\n",
       "    <tr style=\"text-align: right;\">\n",
       "      <th>Truth</th>\n",
       "      <th>0</th>\n",
       "      <th>1</th>\n",
       "    </tr>\n",
       "    <tr>\n",
       "      <th>Predicted</th>\n",
       "      <th></th>\n",
       "      <th></th>\n",
       "    </tr>\n",
       "  </thead>\n",
       "  <tbody>\n",
       "    <tr>\n",
       "      <th>0</th>\n",
       "      <td>32</td>\n",
       "      <td>11</td>\n",
       "    </tr>\n",
       "    <tr>\n",
       "      <th>1</th>\n",
       "      <td>47</td>\n",
       "      <td>14</td>\n",
       "    </tr>\n",
       "  </tbody>\n",
       "</table>\n",
       "</div>"
      ],
      "text/plain": [
       "Truth       0   1\n",
       "Predicted        \n",
       "0          32  11\n",
       "1          47  14"
      ]
     },
     "execution_count": 36,
     "metadata": {},
     "output_type": "execute_result"
    }
   ],
   "source": [
    "confusion_table(y_test, qda_preds)"
   ]
  },
  {
   "cell_type": "markdown",
   "id": "23c45419",
   "metadata": {},
   "source": [
    "___KNN-Expirement___"
   ]
  },
  {
   "cell_type": "code",
   "execution_count": 37,
   "id": "80ff6974",
   "metadata": {},
   "outputs": [],
   "source": [
    "acc_record = {'acc': 0, 'i':0}\n",
    "for i in range(1,11):\n",
    "    knn = KNeighborsClassifier(n_neighbors=i)\n",
    "    knn.fit(X_train, y_train)\n",
    "    knn_pred = knn.predict(X_test)\n",
    "    acc = accuracy_score(knn_pred, y_test)\n",
    "    if acc > acc_record['acc']:\n",
    "        acc_record['acc'] = acc\n",
    "        acc_record['i'] = i        \n",
    "        \n",
    "best_knn = KNeighborsClassifier(n_neighbors=acc_record['i'])\n",
    "best_knn.fit(X_train, y_train)\n",
    "best_knn_pred = best_knn.predict(X_test)\n",
    "acc = accuracy_score(best_knn_pred, y_test)"
   ]
  },
  {
   "cell_type": "code",
   "execution_count": 38,
   "id": "03f6d04c",
   "metadata": {},
   "outputs": [
    {
     "data": {
      "text/plain": [
       "{'acc': 0.5576923076923077, 'i': 5}"
      ]
     },
     "execution_count": 38,
     "metadata": {},
     "output_type": "execute_result"
    }
   ],
   "source": [
    "acc_record"
   ]
  },
  {
   "cell_type": "code",
   "execution_count": 39,
   "id": "0bda0ad3",
   "metadata": {},
   "outputs": [
    {
     "data": {
      "text/html": [
       "<div>\n",
       "<style scoped>\n",
       "    .dataframe tbody tr th:only-of-type {\n",
       "        vertical-align: middle;\n",
       "    }\n",
       "\n",
       "    .dataframe tbody tr th {\n",
       "        vertical-align: top;\n",
       "    }\n",
       "\n",
       "    .dataframe thead th {\n",
       "        text-align: right;\n",
       "    }\n",
       "</style>\n",
       "<table border=\"1\" class=\"dataframe\">\n",
       "  <thead>\n",
       "    <tr style=\"text-align: right;\">\n",
       "      <th>Truth</th>\n",
       "      <th>0</th>\n",
       "      <th>1</th>\n",
       "    </tr>\n",
       "    <tr>\n",
       "      <th>Predicted</th>\n",
       "      <th></th>\n",
       "      <th></th>\n",
       "    </tr>\n",
       "  </thead>\n",
       "  <tbody>\n",
       "    <tr>\n",
       "      <th>0</th>\n",
       "      <td>21</td>\n",
       "      <td>24</td>\n",
       "    </tr>\n",
       "    <tr>\n",
       "      <th>1</th>\n",
       "      <td>22</td>\n",
       "      <td>37</td>\n",
       "    </tr>\n",
       "  </tbody>\n",
       "</table>\n",
       "</div>"
      ],
      "text/plain": [
       "Truth       0   1\n",
       "Predicted        \n",
       "0          21  24\n",
       "1          22  37"
      ]
     },
     "execution_count": 39,
     "metadata": {},
     "output_type": "execute_result"
    }
   ],
   "source": [
    "confusion_table(best_knn_pred, y_test)"
   ]
  },
  {
   "cell_type": "markdown",
   "id": "a5833789",
   "metadata": {},
   "source": [
    "## 14. In this problem, you will develop a model to predict whether a given car gets high or low gas mileage based on the Auto data set"
   ]
  },
  {
   "cell_type": "markdown",
   "id": "b37ceb4c",
   "metadata": {},
   "source": [
    "### (a) Create a binary variable, mpg01, that contains a 1 if mpg contains a value above its median, and a 0 if mpg contains a value below its median. You can compute the median using the median() method of the data frame. Note you may find it helpful to add a column mpg01 to the data frame by assignment. Assuming you have stored the data frame as Auto, this can be done as follows:"
   ]
  },
  {
   "cell_type": "code",
   "execution_count": 40,
   "id": "c0de3dde",
   "metadata": {},
   "outputs": [],
   "source": [
    "df_auto = load_data('Auto')"
   ]
  },
  {
   "cell_type": "code",
   "execution_count": 41,
   "id": "ab5bcf8b",
   "metadata": {},
   "outputs": [],
   "source": [
    "mpg_med = np.median(df_auto['mpg'])"
   ]
  },
  {
   "cell_type": "code",
   "execution_count": 42,
   "id": "18dfed80",
   "metadata": {},
   "outputs": [],
   "source": [
    "df_auto['mpg01'] = [1 if mpg > mpg_med else 0 for mpg in df_auto['mpg']]"
   ]
  },
  {
   "cell_type": "code",
   "execution_count": 43,
   "id": "bc843673",
   "metadata": {},
   "outputs": [
    {
     "data": {
      "text/plain": [
       "0    196\n",
       "1    196\n",
       "Name: mpg01, dtype: int64"
      ]
     },
     "execution_count": 43,
     "metadata": {},
     "output_type": "execute_result"
    }
   ],
   "source": [
    "# is it balanced? \n",
    "df_auto['mpg01'].value_counts()\n",
    "# yes!"
   ]
  },
  {
   "cell_type": "code",
   "execution_count": 44,
   "id": "eec573d3",
   "metadata": {},
   "outputs": [
    {
     "data": {
      "text/html": [
       "<div>\n",
       "<style scoped>\n",
       "    .dataframe tbody tr th:only-of-type {\n",
       "        vertical-align: middle;\n",
       "    }\n",
       "\n",
       "    .dataframe tbody tr th {\n",
       "        vertical-align: top;\n",
       "    }\n",
       "\n",
       "    .dataframe thead th {\n",
       "        text-align: right;\n",
       "    }\n",
       "</style>\n",
       "<table border=\"1\" class=\"dataframe\">\n",
       "  <thead>\n",
       "    <tr style=\"text-align: right;\">\n",
       "      <th></th>\n",
       "      <th>mpg</th>\n",
       "      <th>cylinders</th>\n",
       "      <th>displacement</th>\n",
       "      <th>horsepower</th>\n",
       "      <th>weight</th>\n",
       "      <th>acceleration</th>\n",
       "      <th>year</th>\n",
       "      <th>origin</th>\n",
       "      <th>name</th>\n",
       "      <th>mpg01</th>\n",
       "    </tr>\n",
       "  </thead>\n",
       "  <tbody>\n",
       "    <tr>\n",
       "      <th>0</th>\n",
       "      <td>18.0</td>\n",
       "      <td>8</td>\n",
       "      <td>307.0</td>\n",
       "      <td>130</td>\n",
       "      <td>3504</td>\n",
       "      <td>12.0</td>\n",
       "      <td>70</td>\n",
       "      <td>1</td>\n",
       "      <td>chevrolet chevelle malibu</td>\n",
       "      <td>0</td>\n",
       "    </tr>\n",
       "    <tr>\n",
       "      <th>1</th>\n",
       "      <td>15.0</td>\n",
       "      <td>8</td>\n",
       "      <td>350.0</td>\n",
       "      <td>165</td>\n",
       "      <td>3693</td>\n",
       "      <td>11.5</td>\n",
       "      <td>70</td>\n",
       "      <td>1</td>\n",
       "      <td>buick skylark 320</td>\n",
       "      <td>0</td>\n",
       "    </tr>\n",
       "    <tr>\n",
       "      <th>2</th>\n",
       "      <td>18.0</td>\n",
       "      <td>8</td>\n",
       "      <td>318.0</td>\n",
       "      <td>150</td>\n",
       "      <td>3436</td>\n",
       "      <td>11.0</td>\n",
       "      <td>70</td>\n",
       "      <td>1</td>\n",
       "      <td>plymouth satellite</td>\n",
       "      <td>0</td>\n",
       "    </tr>\n",
       "    <tr>\n",
       "      <th>3</th>\n",
       "      <td>16.0</td>\n",
       "      <td>8</td>\n",
       "      <td>304.0</td>\n",
       "      <td>150</td>\n",
       "      <td>3433</td>\n",
       "      <td>12.0</td>\n",
       "      <td>70</td>\n",
       "      <td>1</td>\n",
       "      <td>amc rebel sst</td>\n",
       "      <td>0</td>\n",
       "    </tr>\n",
       "    <tr>\n",
       "      <th>4</th>\n",
       "      <td>17.0</td>\n",
       "      <td>8</td>\n",
       "      <td>302.0</td>\n",
       "      <td>140</td>\n",
       "      <td>3449</td>\n",
       "      <td>10.5</td>\n",
       "      <td>70</td>\n",
       "      <td>1</td>\n",
       "      <td>ford torino</td>\n",
       "      <td>0</td>\n",
       "    </tr>\n",
       "  </tbody>\n",
       "</table>\n",
       "</div>"
      ],
      "text/plain": [
       "    mpg  cylinders  displacement  horsepower  weight  acceleration  year  \\\n",
       "0  18.0          8         307.0         130    3504          12.0    70   \n",
       "1  15.0          8         350.0         165    3693          11.5    70   \n",
       "2  18.0          8         318.0         150    3436          11.0    70   \n",
       "3  16.0          8         304.0         150    3433          12.0    70   \n",
       "4  17.0          8         302.0         140    3449          10.5    70   \n",
       "\n",
       "   origin                       name  mpg01  \n",
       "0       1  chevrolet chevelle malibu      0  \n",
       "1       1          buick skylark 320      0  \n",
       "2       1         plymouth satellite      0  \n",
       "3       1              amc rebel sst      0  \n",
       "4       1                ford torino      0  "
      ]
     },
     "execution_count": 44,
     "metadata": {},
     "output_type": "execute_result"
    }
   ],
   "source": [
    "df_auto.head()"
   ]
  },
  {
   "cell_type": "markdown",
   "id": "55701e87",
   "metadata": {},
   "source": [
    "### (b) Explore the data graphically in order to investigate the association between mpg01 and the other features. Which of the other features seem most likely to be useful in predicting mpg01? Scatterplots and boxplots may be useful tools to answer this question. Describe your findings.\n"
   ]
  },
  {
   "cell_type": "code",
   "execution_count": 45,
   "id": "3aa5b304",
   "metadata": {
    "scrolled": false
   },
   "outputs": [
    {
     "data": {
      "image/png": "[encoded data removed]",
      "text/plain": [
       "<Figure size 432x288 with 1 Axes>"
      ]
     },
     "metadata": {
      "needs_background": "light"
     },
     "output_type": "display_data"
    },
    {
     "data": {
      "image/png": "[encoded data removed]",
      "text/plain": [
       "<Figure size 432x288 with 1 Axes>"
      ]
     },
     "metadata": {
      "needs_background": "light"
     },
     "output_type": "display_data"
    },
    {
     "data": {
      "image/png": "[encoded data removed]",
      "text/plain": [
       "<Figure size 432x288 with 1 Axes>"
      ]
     },
     "metadata": {
      "needs_background": "light"
     },
     "output_type": "display_data"
    }
   ],
   "source": [
    "import seaborn as sns\n",
    "import matplotlib.pyplot as plt\n",
    "\n",
    "# Assuming `df` is your DataFrame\n",
    "continuous_features = ['displacement', 'horsepower', 'weight']\n",
    "\n",
    "for feature in continuous_features:\n",
    "    sns.scatterplot(x=df_auto[feature], y=df_auto['mpg01'], alpha=0.5, palette='Set2')\n",
    "    plt.title(f'Scatterplot of mpg01 vs. {feature}')\n",
    "    plt.xlabel(feature)\n",
    "    plt.ylabel('mpg01')\n",
    "    plt.show()\n"
   ]
  },
  {
   "cell_type": "markdown",
   "id": "5d140561",
   "metadata": {},
   "source": [
    "- as displacement, horsepower, and weight increase, the likelyhood of the mpg being above the median goes down"
   ]
  },
  {
   "cell_type": "code",
   "execution_count": 46,
   "id": "76eaf965",
   "metadata": {},
   "outputs": [
    {
     "data": {
      "image/png": "[encoded data removed]",
      "text/plain": [
       "<Figure size 432x288 with 1 Axes>"
      ]
     },
     "metadata": {
      "needs_background": "light"
     },
     "output_type": "display_data"
    },
    {
     "data": {
      "image/png": "[encoded data removed]",
      "text/plain": [
       "<Figure size 432x288 with 1 Axes>"
      ]
     },
     "metadata": {
      "needs_background": "light"
     },
     "output_type": "display_data"
    },
    {
     "data": {
      "image/png": "[encoded data removed]",
      "text/plain": [
       "<Figure size 432x288 with 1 Axes>"
      ]
     },
     "metadata": {
      "needs_background": "light"
     },
     "output_type": "display_data"
    }
   ],
   "source": [
    "categorical_features = ['cylinders', 'year', 'origin']\n",
    "\n",
    "for feature in categorical_features:\n",
    "    sns.boxplot(x=df_auto[feature], y=df_auto['mpg01'], palette='Set2')\n",
    "    plt.title(f'Boxplot of mpg01 across {feature}')\n",
    "    plt.xlabel(feature)\n",
    "    plt.ylabel('mpg01')\n",
    "    plt.show()\n"
   ]
  },
  {
   "cell_type": "markdown",
   "id": "d72d3414",
   "metadata": {},
   "source": [
    "### (c) Split the data into a training set and a test set.\n"
   ]
  },
  {
   "cell_type": "code",
   "execution_count": 47,
   "id": "45dcb2bc",
   "metadata": {},
   "outputs": [],
   "source": [
    "X = df_auto.drop(['mpg','mpg01', 'name'], axis = 1)\n",
    "y = df_auto['mpg01'] \n",
    "X_train, X_test, y_train, y_test = train_test_split(X, y, test_size=0.25, random_state=42)"
   ]
  },
  {
   "cell_type": "markdown",
   "id": "cb7e450d",
   "metadata": {},
   "source": [
    "### (d) Perform LDA on the training data in order to predict mpg01 using the variables that seemed most associated with mpg01 in (b). What is the test error of the model obtained?"
   ]
  },
  {
   "cell_type": "code",
   "execution_count": 48,
   "id": "a3c25c5b",
   "metadata": {},
   "outputs": [
    {
     "data": {
      "text/html": [
       "<div>\n",
       "<style scoped>\n",
       "    .dataframe tbody tr th:only-of-type {\n",
       "        vertical-align: middle;\n",
       "    }\n",
       "\n",
       "    .dataframe tbody tr th {\n",
       "        vertical-align: top;\n",
       "    }\n",
       "\n",
       "    .dataframe thead th {\n",
       "        text-align: right;\n",
       "    }\n",
       "</style>\n",
       "<table border=\"1\" class=\"dataframe\">\n",
       "  <thead>\n",
       "    <tr style=\"text-align: right;\">\n",
       "      <th>Truth</th>\n",
       "      <th>0</th>\n",
       "      <th>1</th>\n",
       "    </tr>\n",
       "    <tr>\n",
       "      <th>Predicted</th>\n",
       "      <th></th>\n",
       "      <th></th>\n",
       "    </tr>\n",
       "  </thead>\n",
       "  <tbody>\n",
       "    <tr>\n",
       "      <th>0</th>\n",
       "      <td>42</td>\n",
       "      <td>0</td>\n",
       "    </tr>\n",
       "    <tr>\n",
       "      <th>1</th>\n",
       "      <td>12</td>\n",
       "      <td>44</td>\n",
       "    </tr>\n",
       "  </tbody>\n",
       "</table>\n",
       "</div>"
      ],
      "text/plain": [
       "Truth       0   1\n",
       "Predicted        \n",
       "0          42   0\n",
       "1          12  44"
      ]
     },
     "execution_count": 48,
     "metadata": {},
     "output_type": "execute_result"
    }
   ],
   "source": [
    "# to me it looked like weight? \n",
    "\n",
    "lda = LDA(store_covariance=True)\n",
    "lda.fit(X_train, y_train)\n",
    "\n",
    "lda_preds = lda.predict(X_test)\n",
    "confusion_table(lda_preds,y_test)"
   ]
  },
  {
   "cell_type": "code",
   "execution_count": 49,
   "id": "e09dad73",
   "metadata": {},
   "outputs": [
    {
     "name": "stdout",
     "output_type": "stream",
     "text": [
      "LDA test error: 0.122\n"
     ]
    }
   ],
   "source": [
    "print(f'LDA test error: {1 - accuracy_score(lda_preds,y_test):.3}')"
   ]
  },
  {
   "cell_type": "markdown",
   "id": "13396e9c",
   "metadata": {},
   "source": [
    "### (e) Perform QDA on the training data in order to predict mpg01 using the variables that seemed most associated with mpg01 in (b). What is the test error of the model obtained?\n"
   ]
  },
  {
   "cell_type": "code",
   "execution_count": 50,
   "id": "8f7eed95",
   "metadata": {},
   "outputs": [
    {
     "data": {
      "text/html": [
       "<div>\n",
       "<style scoped>\n",
       "    .dataframe tbody tr th:only-of-type {\n",
       "        vertical-align: middle;\n",
       "    }\n",
       "\n",
       "    .dataframe tbody tr th {\n",
       "        vertical-align: top;\n",
       "    }\n",
       "\n",
       "    .dataframe thead th {\n",
       "        text-align: right;\n",
       "    }\n",
       "</style>\n",
       "<table border=\"1\" class=\"dataframe\">\n",
       "  <thead>\n",
       "    <tr style=\"text-align: right;\">\n",
       "      <th>Truth</th>\n",
       "      <th>0</th>\n",
       "      <th>1</th>\n",
       "    </tr>\n",
       "    <tr>\n",
       "      <th>Predicted</th>\n",
       "      <th></th>\n",
       "      <th></th>\n",
       "    </tr>\n",
       "  </thead>\n",
       "  <tbody>\n",
       "    <tr>\n",
       "      <th>0</th>\n",
       "      <td>45</td>\n",
       "      <td>4</td>\n",
       "    </tr>\n",
       "    <tr>\n",
       "      <th>1</th>\n",
       "      <td>9</td>\n",
       "      <td>40</td>\n",
       "    </tr>\n",
       "  </tbody>\n",
       "</table>\n",
       "</div>"
      ],
      "text/plain": [
       "Truth       0   1\n",
       "Predicted        \n",
       "0          45   4\n",
       "1           9  40"
      ]
     },
     "execution_count": 50,
     "metadata": {},
     "output_type": "execute_result"
    }
   ],
   "source": [
    "# to me it looked like weight? \n",
    "\n",
    "qda = QDA(store_covariance=True)\n",
    "qda.fit(X_train, y_train)\n",
    "\n",
    "qda_preds = qda.predict(X_test)\n",
    "confusion_table(qda_preds,y_test)"
   ]
  },
  {
   "cell_type": "code",
   "execution_count": 51,
   "id": "507b5f7d",
   "metadata": {},
   "outputs": [
    {
     "name": "stdout",
     "output_type": "stream",
     "text": [
      "QDA test error: 0.133\n"
     ]
    }
   ],
   "source": [
    "print(f'QDA test error: {1 - accuracy_score(qda_preds,y_test):.3}')"
   ]
  },
  {
   "cell_type": "markdown",
   "id": "78665766",
   "metadata": {},
   "source": [
    "### (f) Perform logistic regression on the training data in order to predict mpg01 using the variables that seemed most associated with mpg01 in (b). What is the test error of the model obtained?\n"
   ]
  },
  {
   "cell_type": "code",
   "execution_count": 52,
   "id": "bd3715eb",
   "metadata": {},
   "outputs": [
    {
     "data": {
      "text/html": [
       "<div>\n",
       "<style scoped>\n",
       "    .dataframe tbody tr th:only-of-type {\n",
       "        vertical-align: middle;\n",
       "    }\n",
       "\n",
       "    .dataframe tbody tr th {\n",
       "        vertical-align: top;\n",
       "    }\n",
       "\n",
       "    .dataframe thead th {\n",
       "        text-align: right;\n",
       "    }\n",
       "</style>\n",
       "<table border=\"1\" class=\"dataframe\">\n",
       "  <thead>\n",
       "    <tr style=\"text-align: right;\">\n",
       "      <th>Truth</th>\n",
       "      <th>0</th>\n",
       "      <th>1</th>\n",
       "    </tr>\n",
       "    <tr>\n",
       "      <th>Predicted</th>\n",
       "      <th></th>\n",
       "      <th></th>\n",
       "    </tr>\n",
       "  </thead>\n",
       "  <tbody>\n",
       "    <tr>\n",
       "      <th>0</th>\n",
       "      <td>45</td>\n",
       "      <td>3</td>\n",
       "    </tr>\n",
       "    <tr>\n",
       "      <th>1</th>\n",
       "      <td>9</td>\n",
       "      <td>41</td>\n",
       "    </tr>\n",
       "  </tbody>\n",
       "</table>\n",
       "</div>"
      ],
      "text/plain": [
       "Truth       0   1\n",
       "Predicted        \n",
       "0          45   3\n",
       "1           9  41"
      ]
     },
     "execution_count": 52,
     "metadata": {},
     "output_type": "execute_result"
    }
   ],
   "source": [
    "glm = sm.GLM(y_train, X_train, family=sm.families.Binomial())\n",
    "results = glm.fit()\n",
    "# Making predictions on the test set\n",
    "probs = results.predict(X_test)\n",
    "preds = (probs > 0.5).astype(int)\n",
    "confusion_table(preds,y_test)"
   ]
  },
  {
   "cell_type": "code",
   "execution_count": 53,
   "id": "c957204f",
   "metadata": {},
   "outputs": [
    {
     "name": "stdout",
     "output_type": "stream",
     "text": [
      "QDA test error: 0.122\n"
     ]
    }
   ],
   "source": [
    "print(f'QDA test error: {1 - accuracy_score(preds,y_test):.3}')"
   ]
  },
  {
   "cell_type": "markdown",
   "id": "f4aeabe8",
   "metadata": {},
   "source": [
    "### (g) Perform naive Bayes on the training data in order to predict mpg01 using the variables that seemed most associated with mpg01 in (b). What is the test error of the model obtained?\n"
   ]
  },
  {
   "cell_type": "code",
   "execution_count": 54,
   "id": "8b942630",
   "metadata": {},
   "outputs": [
    {
     "data": {
      "text/html": [
       "<div>\n",
       "<style scoped>\n",
       "    .dataframe tbody tr th:only-of-type {\n",
       "        vertical-align: middle;\n",
       "    }\n",
       "\n",
       "    .dataframe tbody tr th {\n",
       "        vertical-align: top;\n",
       "    }\n",
       "\n",
       "    .dataframe thead th {\n",
       "        text-align: right;\n",
       "    }\n",
       "</style>\n",
       "<table border=\"1\" class=\"dataframe\">\n",
       "  <thead>\n",
       "    <tr style=\"text-align: right;\">\n",
       "      <th>Truth</th>\n",
       "      <th>0</th>\n",
       "      <th>1</th>\n",
       "    </tr>\n",
       "    <tr>\n",
       "      <th>Predicted</th>\n",
       "      <th></th>\n",
       "      <th></th>\n",
       "    </tr>\n",
       "  </thead>\n",
       "  <tbody>\n",
       "    <tr>\n",
       "      <th>0</th>\n",
       "      <td>43</td>\n",
       "      <td>2</td>\n",
       "    </tr>\n",
       "    <tr>\n",
       "      <th>1</th>\n",
       "      <td>11</td>\n",
       "      <td>42</td>\n",
       "    </tr>\n",
       "  </tbody>\n",
       "</table>\n",
       "</div>"
      ],
      "text/plain": [
       "Truth       0   1\n",
       "Predicted        \n",
       "0          43   2\n",
       "1          11  42"
      ]
     },
     "execution_count": 54,
     "metadata": {},
     "output_type": "execute_result"
    }
   ],
   "source": [
    "NB = GaussianNB()\n",
    "NB.fit(X_train, y_train)\n",
    "nb_preds = NB.predict(X_test)\n",
    "confusion_table(nb_preds, y_test)"
   ]
  },
  {
   "cell_type": "code",
   "execution_count": 55,
   "id": "81c38029",
   "metadata": {},
   "outputs": [
    {
     "name": "stdout",
     "output_type": "stream",
     "text": [
      "QDA test error: 0.133\n"
     ]
    }
   ],
   "source": [
    "print(f'QDA test error: {1 - accuracy_score(nb_preds,y_test):.3}')"
   ]
  },
  {
   "cell_type": "markdown",
   "id": "714d27f4",
   "metadata": {},
   "source": [
    "### (h) Perform KNN on the training data, with several values of K, in order to predict mpg01. Use only the variables that seemed most associated with mpg01 in (b). What test errors do you obtain? Which value of K seems to perform the best on this data set?"
   ]
  },
  {
   "cell_type": "code",
   "execution_count": 56,
   "id": "cb13152b",
   "metadata": {},
   "outputs": [],
   "source": [
    "acc_record = {'acc': 0, 'i':0}\n",
    "for i in range(1,11):\n",
    "    knn = KNeighborsClassifier(n_neighbors=i)\n",
    "    knn.fit(X_train, y_train)\n",
    "    knn_pred = knn.predict(X_test)\n",
    "    acc = accuracy_score(knn_pred, y_test)\n",
    "    if acc > acc_record['acc']:\n",
    "        acc_record['acc'] = acc\n",
    "        acc_record['i'] = i        \n",
    "        \n",
    "best_knn = KNeighborsClassifier(n_neighbors=acc_record['i'])\n",
    "best_knn.fit(X_train, y_train)\n",
    "best_knn_pred = best_knn.predict(X_test)\n",
    "acc = accuracy_score(best_knn_pred, y_test)"
   ]
  },
  {
   "cell_type": "code",
   "execution_count": 57,
   "id": "342560d6",
   "metadata": {},
   "outputs": [
    {
     "data": {
      "text/plain": [
       "{'acc': 0.9081632653061225, 'i': 3}"
      ]
     },
     "execution_count": 57,
     "metadata": {},
     "output_type": "execute_result"
    }
   ],
   "source": [
    "acc_record"
   ]
  },
  {
   "cell_type": "code",
   "execution_count": 58,
   "id": "f0605590",
   "metadata": {},
   "outputs": [
    {
     "data": {
      "text/html": [
       "<div>\n",
       "<style scoped>\n",
       "    .dataframe tbody tr th:only-of-type {\n",
       "        vertical-align: middle;\n",
       "    }\n",
       "\n",
       "    .dataframe tbody tr th {\n",
       "        vertical-align: top;\n",
       "    }\n",
       "\n",
       "    .dataframe thead th {\n",
       "        text-align: right;\n",
       "    }\n",
       "</style>\n",
       "<table border=\"1\" class=\"dataframe\">\n",
       "  <thead>\n",
       "    <tr style=\"text-align: right;\">\n",
       "      <th>Truth</th>\n",
       "      <th>0</th>\n",
       "      <th>1</th>\n",
       "    </tr>\n",
       "    <tr>\n",
       "      <th>Predicted</th>\n",
       "      <th></th>\n",
       "      <th></th>\n",
       "    </tr>\n",
       "  </thead>\n",
       "  <tbody>\n",
       "    <tr>\n",
       "      <th>0</th>\n",
       "      <td>46</td>\n",
       "      <td>1</td>\n",
       "    </tr>\n",
       "    <tr>\n",
       "      <th>1</th>\n",
       "      <td>8</td>\n",
       "      <td>43</td>\n",
       "    </tr>\n",
       "  </tbody>\n",
       "</table>\n",
       "</div>"
      ],
      "text/plain": [
       "Truth       0   1\n",
       "Predicted        \n",
       "0          46   1\n",
       "1           8  43"
      ]
     },
     "execution_count": 58,
     "metadata": {},
     "output_type": "execute_result"
    }
   ],
   "source": [
    "confusion_table(best_knn_pred, y_test)"
   ]
  },
  {
   "cell_type": "code",
   "execution_count": 59,
   "id": "2a6ea82b",
   "metadata": {},
   "outputs": [
    {
     "name": "stdout",
     "output_type": "stream",
     "text": [
      "QDA test error: 0.0918\n"
     ]
    }
   ],
   "source": [
    "print(f'QDA test error: {1 - accuracy_score(best_knn_pred,y_test):.3}')"
   ]
  },
  {
   "cell_type": "markdown",
   "id": "6f08e2fe",
   "metadata": {},
   "source": [
    "### Using the Boston data set, fit classification models in order to predict whether a given suburb has a crime rate above or below the median. Explore logistic regression, LDA, naive Bayes, and KNN models using various subsets of the predictors. Describe your findings.\n",
    "### ___Hint: You will have to create the response variable yourself, using the variables that are contained in the Boston data set.___"
   ]
  },
  {
   "cell_type": "code",
   "execution_count": 60,
   "id": "9f244764",
   "metadata": {},
   "outputs": [],
   "source": [
    "boston_df = load_data('Boston')"
   ]
  },
  {
   "cell_type": "code",
   "execution_count": 61,
   "id": "b5ad818a",
   "metadata": {},
   "outputs": [],
   "source": [
    "crim_med = np.median(boston_df['crim'])"
   ]
  },
  {
   "cell_type": "code",
   "execution_count": 62,
   "id": "f9e1513e",
   "metadata": {},
   "outputs": [],
   "source": [
    "boston_df['crim_01'] = [1 if crim > crim_med else 0 for crim in boston_df['crim']]"
   ]
  },
  {
   "cell_type": "code",
   "execution_count": 63,
   "id": "a57a8530",
   "metadata": {},
   "outputs": [
    {
     "data": {
      "text/plain": [
       "0    253\n",
       "1    253\n",
       "Name: crim_01, dtype: int64"
      ]
     },
     "execution_count": 63,
     "metadata": {},
     "output_type": "execute_result"
    }
   ],
   "source": [
    "# check it \n",
    "boston_df['crim_01'].value_counts()"
   ]
  },
  {
   "cell_type": "code",
   "execution_count": 64,
   "id": "4af2473b",
   "metadata": {},
   "outputs": [
    {
     "data": {
      "text/plain": [
       "Index(['crim', 'zn', 'indus', 'chas', 'nox', 'rm', 'age', 'dis', 'rad', 'tax',\n",
       "       'ptratio', 'lstat', 'medv', 'crim_01'],\n",
       "      dtype='object')"
      ]
     },
     "execution_count": 64,
     "metadata": {},
     "output_type": "execute_result"
    }
   ],
   "source": [
    "boston_df.columns"
   ]
  },
  {
   "cell_type": "code",
   "execution_count": 65,
   "id": "a5f41559",
   "metadata": {},
   "outputs": [],
   "source": [
    "X = boston_df.drop(['crim_01','crim'], axis=1)\n",
    "y = boston_df['crim_01']\n",
    "X_train, X_test, y_train, y_test = train_test_split(X, y, test_size=0.25, random_state=42)"
   ]
  },
  {
   "cell_type": "markdown",
   "id": "faa4ed54",
   "metadata": {},
   "source": [
    "___log reg___"
   ]
  },
  {
   "cell_type": "code",
   "execution_count": 66,
   "id": "4d2128ef",
   "metadata": {},
   "outputs": [],
   "source": [
    "glm = sm.GLM(y_train, X_train, family=sm.families.Binomial())\n",
    "results = glm.fit()"
   ]
  },
  {
   "cell_type": "code",
   "execution_count": 67,
   "id": "733f162f",
   "metadata": {},
   "outputs": [
    {
     "data": {
      "text/html": [
       "<table class=\"simpletable\">\n",
       "<caption>Generalized Linear Model Regression Results</caption>\n",
       "<tr>\n",
       "  <th>Dep. Variable:</th>        <td>crim_01</td>     <th>  No. Observations:  </th>  <td>   379</td> \n",
       "</tr>\n",
       "<tr>\n",
       "  <th>Model:</th>                  <td>GLM</td>       <th>  Df Residuals:      </th>  <td>   367</td> \n",
       "</tr>\n",
       "<tr>\n",
       "  <th>Model Family:</th>        <td>Binomial</td>     <th>  Df Model:          </th>  <td>    11</td> \n",
       "</tr>\n",
       "<tr>\n",
       "  <th>Link Function:</th>         <td>Logit</td>      <th>  Scale:             </th> <td>  1.0000</td>\n",
       "</tr>\n",
       "<tr>\n",
       "  <th>Method:</th>                <td>IRLS</td>       <th>  Log-Likelihood:    </th> <td> -104.22</td>\n",
       "</tr>\n",
       "<tr>\n",
       "  <th>Date:</th>            <td>Sun, 18 Feb 2024</td> <th>  Deviance:          </th> <td>  208.44</td>\n",
       "</tr>\n",
       "<tr>\n",
       "  <th>Time:</th>                <td>14:46:04</td>     <th>  Pearson chi2:      </th>  <td>  294.</td> \n",
       "</tr>\n",
       "<tr>\n",
       "  <th>No. Iterations:</th>          <td>9</td>        <th>  Pseudo R-squ. (CS):</th>  <td>0.5666</td> \n",
       "</tr>\n",
       "<tr>\n",
       "  <th>Covariance Type:</th>     <td>nonrobust</td>    <th>                     </th>     <td> </td>   \n",
       "</tr>\n",
       "</table>\n",
       "<table class=\"simpletable\">\n",
       "<tr>\n",
       "     <td></td>        <th>coef</th>     <th>std err</th>      <th>z</th>      <th>P>|z|</th>  <th>[0.025</th>    <th>0.975]</th>  \n",
       "</tr>\n",
       "<tr>\n",
       "  <th>zn</th>      <td>   -0.0544</td> <td>    0.025</td> <td>   -2.194</td> <td> 0.028</td> <td>   -0.103</td> <td>   -0.006</td>\n",
       "</tr>\n",
       "<tr>\n",
       "  <th>indus</th>   <td>    0.0175</td> <td>    0.040</td> <td>    0.436</td> <td> 0.663</td> <td>   -0.061</td> <td>    0.096</td>\n",
       "</tr>\n",
       "<tr>\n",
       "  <th>chas</th>    <td>   -0.1144</td> <td>    0.755</td> <td>   -0.152</td> <td> 0.880</td> <td>   -1.593</td> <td>    1.365</td>\n",
       "</tr>\n",
       "<tr>\n",
       "  <th>nox</th>     <td>   14.0047</td> <td>    4.105</td> <td>    3.412</td> <td> 0.001</td> <td>    5.959</td> <td>   22.050</td>\n",
       "</tr>\n",
       "<tr>\n",
       "  <th>rm</th>      <td>   -1.4195</td> <td>    0.630</td> <td>   -2.252</td> <td> 0.024</td> <td>   -2.655</td> <td>   -0.184</td>\n",
       "</tr>\n",
       "<tr>\n",
       "  <th>age</th>     <td>    0.0252</td> <td>    0.011</td> <td>    2.272</td> <td> 0.023</td> <td>    0.003</td> <td>    0.047</td>\n",
       "</tr>\n",
       "<tr>\n",
       "  <th>dis</th>     <td>   -0.0857</td> <td>    0.175</td> <td>   -0.490</td> <td> 0.624</td> <td>   -0.428</td> <td>    0.257</td>\n",
       "</tr>\n",
       "<tr>\n",
       "  <th>rad</th>     <td>    0.5420</td> <td>    0.141</td> <td>    3.846</td> <td> 0.000</td> <td>    0.266</td> <td>    0.818</td>\n",
       "</tr>\n",
       "<tr>\n",
       "  <th>tax</th>     <td>   -0.0057</td> <td>    0.003</td> <td>   -2.094</td> <td> 0.036</td> <td>   -0.011</td> <td>   -0.000</td>\n",
       "</tr>\n",
       "<tr>\n",
       "  <th>ptratio</th> <td>   -0.1343</td> <td>    0.096</td> <td>   -1.397</td> <td> 0.162</td> <td>   -0.323</td> <td>    0.054</td>\n",
       "</tr>\n",
       "<tr>\n",
       "  <th>lstat</th>   <td>   -0.0501</td> <td>    0.044</td> <td>   -1.135</td> <td> 0.257</td> <td>   -0.137</td> <td>    0.036</td>\n",
       "</tr>\n",
       "<tr>\n",
       "  <th>medv</th>    <td>    0.0830</td> <td>    0.058</td> <td>    1.425</td> <td> 0.154</td> <td>   -0.031</td> <td>    0.197</td>\n",
       "</tr>\n",
       "</table>"
      ],
      "text/plain": [
       "<class 'statsmodels.iolib.summary.Summary'>\n",
       "\"\"\"\n",
       "                 Generalized Linear Model Regression Results                  \n",
       "==============================================================================\n",
       "Dep. Variable:                crim_01   No. Observations:                  379\n",
       "Model:                            GLM   Df Residuals:                      367\n",
       "Model Family:                Binomial   Df Model:                           11\n",
       "Link Function:                  Logit   Scale:                          1.0000\n",
       "Method:                          IRLS   Log-Likelihood:                -104.22\n",
       "Date:                Sun, 18 Feb 2024   Deviance:                       208.44\n",
       "Time:                        14:46:04   Pearson chi2:                     294.\n",
       "No. Iterations:                     9   Pseudo R-squ. (CS):             0.5666\n",
       "Covariance Type:            nonrobust                                         \n",
       "==============================================================================\n",
       "                 coef    std err          z      P>|z|      [0.025      0.975]\n",
       "------------------------------------------------------------------------------\n",
       "zn            -0.0544      0.025     -2.194      0.028      -0.103      -0.006\n",
       "indus          0.0175      0.040      0.436      0.663      -0.061       0.096\n",
       "chas          -0.1144      0.755     -0.152      0.880      -1.593       1.365\n",
       "nox           14.0047      4.105      3.412      0.001       5.959      22.050\n",
       "rm            -1.4195      0.630     -2.252      0.024      -2.655      -0.184\n",
       "age            0.0252      0.011      2.272      0.023       0.003       0.047\n",
       "dis           -0.0857      0.175     -0.490      0.624      -0.428       0.257\n",
       "rad            0.5420      0.141      3.846      0.000       0.266       0.818\n",
       "tax           -0.0057      0.003     -2.094      0.036      -0.011      -0.000\n",
       "ptratio       -0.1343      0.096     -1.397      0.162      -0.323       0.054\n",
       "lstat         -0.0501      0.044     -1.135      0.257      -0.137       0.036\n",
       "medv           0.0830      0.058      1.425      0.154      -0.031       0.197\n",
       "==============================================================================\n",
       "\"\"\""
      ]
     },
     "execution_count": 67,
     "metadata": {},
     "output_type": "execute_result"
    }
   ],
   "source": [
    "results.summary()"
   ]
  },
  {
   "cell_type": "code",
   "execution_count": 68,
   "id": "5fa4c463",
   "metadata": {},
   "outputs": [
    {
     "data": {
      "text/html": [
       "<table class=\"simpletable\">\n",
       "<caption>Generalized Linear Model Regression Results</caption>\n",
       "<tr>\n",
       "  <th>Dep. Variable:</th>        <td>crim_01</td>     <th>  No. Observations:  </th>  <td>   379</td> \n",
       "</tr>\n",
       "<tr>\n",
       "  <th>Model:</th>                  <td>GLM</td>       <th>  Df Residuals:      </th>  <td>   372</td> \n",
       "</tr>\n",
       "<tr>\n",
       "  <th>Model Family:</th>        <td>Binomial</td>     <th>  Df Model:          </th>  <td>     6</td> \n",
       "</tr>\n",
       "<tr>\n",
       "  <th>Link Function:</th>         <td>Logit</td>      <th>  Scale:             </th> <td>  1.0000</td>\n",
       "</tr>\n",
       "<tr>\n",
       "  <th>Method:</th>                <td>IRLS</td>       <th>  Log-Likelihood:    </th> <td> -107.31</td>\n",
       "</tr>\n",
       "<tr>\n",
       "  <th>Date:</th>            <td>Sun, 18 Feb 2024</td> <th>  Deviance:          </th> <td>  214.62</td>\n",
       "</tr>\n",
       "<tr>\n",
       "  <th>Time:</th>                <td>14:46:04</td>     <th>  Pearson chi2:      </th>  <td>  287.</td> \n",
       "</tr>\n",
       "<tr>\n",
       "  <th>No. Iterations:</th>          <td>8</td>        <th>  Pseudo R-squ. (CS):</th>  <td>0.5595</td> \n",
       "</tr>\n",
       "<tr>\n",
       "  <th>Covariance Type:</th>     <td>nonrobust</td>    <th>                     </th>     <td> </td>   \n",
       "</tr>\n",
       "</table>\n",
       "<table class=\"simpletable\">\n",
       "<tr>\n",
       "     <td></td>        <th>coef</th>     <th>std err</th>      <th>z</th>      <th>P>|z|</th>  <th>[0.025</th>    <th>0.975]</th>  \n",
       "</tr>\n",
       "<tr>\n",
       "  <th>zn</th>      <td>   -0.0753</td> <td>    0.024</td> <td>   -3.185</td> <td> 0.001</td> <td>   -0.122</td> <td>   -0.029</td>\n",
       "</tr>\n",
       "<tr>\n",
       "  <th>nox</th>     <td>   13.4415</td> <td>    3.360</td> <td>    4.000</td> <td> 0.000</td> <td>    6.856</td> <td>   20.027</td>\n",
       "</tr>\n",
       "<tr>\n",
       "  <th>rm</th>      <td>   -0.5523</td> <td>    0.214</td> <td>   -2.580</td> <td> 0.010</td> <td>   -0.972</td> <td>   -0.133</td>\n",
       "</tr>\n",
       "<tr>\n",
       "  <th>age</th>     <td>    0.0180</td> <td>    0.009</td> <td>    2.056</td> <td> 0.040</td> <td>    0.001</td> <td>    0.035</td>\n",
       "</tr>\n",
       "<tr>\n",
       "  <th>rad</th>     <td>    0.4951</td> <td>    0.126</td> <td>    3.937</td> <td> 0.000</td> <td>    0.249</td> <td>    0.742</td>\n",
       "</tr>\n",
       "<tr>\n",
       "  <th>tax</th>     <td>   -0.0055</td> <td>    0.002</td> <td>   -2.198</td> <td> 0.028</td> <td>   -0.010</td> <td>   -0.001</td>\n",
       "</tr>\n",
       "<tr>\n",
       "  <th>ptratio</th> <td>   -0.3081</td> <td>    0.061</td> <td>   -5.044</td> <td> 0.000</td> <td>   -0.428</td> <td>   -0.188</td>\n",
       "</tr>\n",
       "</table>"
      ],
      "text/plain": [
       "<class 'statsmodels.iolib.summary.Summary'>\n",
       "\"\"\"\n",
       "                 Generalized Linear Model Regression Results                  \n",
       "==============================================================================\n",
       "Dep. Variable:                crim_01   No. Observations:                  379\n",
       "Model:                            GLM   Df Residuals:                      372\n",
       "Model Family:                Binomial   Df Model:                            6\n",
       "Link Function:                  Logit   Scale:                          1.0000\n",
       "Method:                          IRLS   Log-Likelihood:                -107.31\n",
       "Date:                Sun, 18 Feb 2024   Deviance:                       214.62\n",
       "Time:                        14:46:04   Pearson chi2:                     287.\n",
       "No. Iterations:                     8   Pseudo R-squ. (CS):             0.5595\n",
       "Covariance Type:            nonrobust                                         \n",
       "==============================================================================\n",
       "                 coef    std err          z      P>|z|      [0.025      0.975]\n",
       "------------------------------------------------------------------------------\n",
       "zn            -0.0753      0.024     -3.185      0.001      -0.122      -0.029\n",
       "nox           13.4415      3.360      4.000      0.000       6.856      20.027\n",
       "rm            -0.5523      0.214     -2.580      0.010      -0.972      -0.133\n",
       "age            0.0180      0.009      2.056      0.040       0.001       0.035\n",
       "rad            0.4951      0.126      3.937      0.000       0.249       0.742\n",
       "tax           -0.0055      0.002     -2.198      0.028      -0.010      -0.001\n",
       "ptratio       -0.3081      0.061     -5.044      0.000      -0.428      -0.188\n",
       "==============================================================================\n",
       "\"\"\""
      ]
     },
     "execution_count": 68,
     "metadata": {},
     "output_type": "execute_result"
    }
   ],
   "source": [
    "# only significant vars now\n",
    "X = boston_df.drop(['crim_01','crim','dis','indus','chas','lstat','medv'], axis=1)\n",
    "y = boston_df['crim_01']\n",
    "X_train, X_test, y_train, y_test = train_test_split(X, y, test_size=0.25, random_state=42)\n",
    "glm = sm.GLM(y_train, X_train, family=sm.families.Binomial())\n",
    "results = glm.fit()\n",
    "results.summary()"
   ]
  },
  {
   "cell_type": "code",
   "execution_count": 69,
   "id": "1d887ee3",
   "metadata": {},
   "outputs": [
    {
     "data": {
      "text/html": [
       "<div>\n",
       "<style scoped>\n",
       "    .dataframe tbody tr th:only-of-type {\n",
       "        vertical-align: middle;\n",
       "    }\n",
       "\n",
       "    .dataframe tbody tr th {\n",
       "        vertical-align: top;\n",
       "    }\n",
       "\n",
       "    .dataframe thead th {\n",
       "        text-align: right;\n",
       "    }\n",
       "</style>\n",
       "<table border=\"1\" class=\"dataframe\">\n",
       "  <thead>\n",
       "    <tr style=\"text-align: right;\">\n",
       "      <th>Truth</th>\n",
       "      <th>0</th>\n",
       "      <th>1</th>\n",
       "    </tr>\n",
       "    <tr>\n",
       "      <th>Predicted</th>\n",
       "      <th></th>\n",
       "      <th></th>\n",
       "    </tr>\n",
       "  </thead>\n",
       "  <tbody>\n",
       "    <tr>\n",
       "      <th>0</th>\n",
       "      <td>56</td>\n",
       "      <td>14</td>\n",
       "    </tr>\n",
       "    <tr>\n",
       "      <th>1</th>\n",
       "      <td>10</td>\n",
       "      <td>47</td>\n",
       "    </tr>\n",
       "  </tbody>\n",
       "</table>\n",
       "</div>"
      ],
      "text/plain": [
       "Truth       0   1\n",
       "Predicted        \n",
       "0          56  14\n",
       "1          10  47"
      ]
     },
     "execution_count": 69,
     "metadata": {},
     "output_type": "execute_result"
    }
   ],
   "source": [
    "# Making predictions on the test set\n",
    "probs = results.predict(X_test)\n",
    "\n",
    "# Assigning labels based on probability threshold\n",
    "preds = np.array([0] * len(X_test))\n",
    "preds[probs > 0.5] = 1\n",
    "confusion_table(preds, y_test)"
   ]
  },
  {
   "cell_type": "code",
   "execution_count": 70,
   "id": "28178533",
   "metadata": {
    "scrolled": true
   },
   "outputs": [
    {
     "data": {
      "text/plain": [
       "0.8110236220472441"
      ]
     },
     "execution_count": 70,
     "metadata": {},
     "output_type": "execute_result"
    }
   ],
   "source": [
    "accuracy_score(preds, y_test)"
   ]
  },
  {
   "cell_type": "markdown",
   "id": "0aaa7794",
   "metadata": {},
   "source": [
    "___LDA___"
   ]
  },
  {
   "cell_type": "code",
   "execution_count": 71,
   "id": "e172196f",
   "metadata": {},
   "outputs": [
    {
     "data": {
      "text/html": [
       "<div>\n",
       "<style scoped>\n",
       "    .dataframe tbody tr th:only-of-type {\n",
       "        vertical-align: middle;\n",
       "    }\n",
       "\n",
       "    .dataframe tbody tr th {\n",
       "        vertical-align: top;\n",
       "    }\n",
       "\n",
       "    .dataframe thead th {\n",
       "        text-align: right;\n",
       "    }\n",
       "</style>\n",
       "<table border=\"1\" class=\"dataframe\">\n",
       "  <thead>\n",
       "    <tr style=\"text-align: right;\">\n",
       "      <th>Truth</th>\n",
       "      <th>0</th>\n",
       "      <th>1</th>\n",
       "    </tr>\n",
       "    <tr>\n",
       "      <th>Predicted</th>\n",
       "      <th></th>\n",
       "      <th></th>\n",
       "    </tr>\n",
       "  </thead>\n",
       "  <tbody>\n",
       "    <tr>\n",
       "      <th>0</th>\n",
       "      <td>63</td>\n",
       "      <td>17</td>\n",
       "    </tr>\n",
       "    <tr>\n",
       "      <th>1</th>\n",
       "      <td>3</td>\n",
       "      <td>44</td>\n",
       "    </tr>\n",
       "  </tbody>\n",
       "</table>\n",
       "</div>"
      ],
      "text/plain": [
       "Truth       0   1\n",
       "Predicted        \n",
       "0          63  17\n",
       "1           3  44"
      ]
     },
     "execution_count": 71,
     "metadata": {},
     "output_type": "execute_result"
    }
   ],
   "source": [
    "lda = LDA(store_covariance=True)\n",
    "lda.fit(X_train, y_train)\n",
    "\n",
    "lda_preds = lda.predict(X_test)\n",
    "confusion_table(lda_preds,y_test)"
   ]
  },
  {
   "cell_type": "code",
   "execution_count": 72,
   "id": "34c78228",
   "metadata": {},
   "outputs": [
    {
     "data": {
      "text/plain": [
       "0.84251968503937"
      ]
     },
     "execution_count": 72,
     "metadata": {},
     "output_type": "execute_result"
    }
   ],
   "source": [
    "accuracy_score(lda_preds, y_test)"
   ]
  },
  {
   "cell_type": "markdown",
   "id": "e93629b5",
   "metadata": {},
   "source": [
    "___QDA___"
   ]
  },
  {
   "cell_type": "code",
   "execution_count": 73,
   "id": "d7a3424a",
   "metadata": {},
   "outputs": [
    {
     "data": {
      "text/html": [
       "<div>\n",
       "<style scoped>\n",
       "    .dataframe tbody tr th:only-of-type {\n",
       "        vertical-align: middle;\n",
       "    }\n",
       "\n",
       "    .dataframe tbody tr th {\n",
       "        vertical-align: top;\n",
       "    }\n",
       "\n",
       "    .dataframe thead th {\n",
       "        text-align: right;\n",
       "    }\n",
       "</style>\n",
       "<table border=\"1\" class=\"dataframe\">\n",
       "  <thead>\n",
       "    <tr style=\"text-align: right;\">\n",
       "      <th>Truth</th>\n",
       "      <th>0</th>\n",
       "      <th>1</th>\n",
       "    </tr>\n",
       "    <tr>\n",
       "      <th>Predicted</th>\n",
       "      <th></th>\n",
       "      <th></th>\n",
       "    </tr>\n",
       "  </thead>\n",
       "  <tbody>\n",
       "    <tr>\n",
       "      <th>0</th>\n",
       "      <td>63</td>\n",
       "      <td>17</td>\n",
       "    </tr>\n",
       "    <tr>\n",
       "      <th>1</th>\n",
       "      <td>3</td>\n",
       "      <td>44</td>\n",
       "    </tr>\n",
       "  </tbody>\n",
       "</table>\n",
       "</div>"
      ],
      "text/plain": [
       "Truth       0   1\n",
       "Predicted        \n",
       "0          63  17\n",
       "1           3  44"
      ]
     },
     "execution_count": 73,
     "metadata": {},
     "output_type": "execute_result"
    }
   ],
   "source": [
    "qda = QDA(store_covariance=True)\n",
    "qda.fit(X_train, y_train)\n",
    "\n",
    "qda_preds = qda.predict(X_test)\n",
    "confusion_table(qda_preds,y_test)"
   ]
  },
  {
   "cell_type": "code",
   "execution_count": 74,
   "id": "92f96c69",
   "metadata": {},
   "outputs": [
    {
     "data": {
      "text/plain": [
       "0.84251968503937"
      ]
     },
     "execution_count": 74,
     "metadata": {},
     "output_type": "execute_result"
    }
   ],
   "source": [
    "accuracy_score(qda_preds, y_test)"
   ]
  },
  {
   "cell_type": "markdown",
   "id": "3af7f434",
   "metadata": {},
   "source": [
    "___Bayes___"
   ]
  },
  {
   "cell_type": "code",
   "execution_count": 75,
   "id": "5d0bf2ce",
   "metadata": {},
   "outputs": [
    {
     "data": {
      "text/html": [
       "<div>\n",
       "<style scoped>\n",
       "    .dataframe tbody tr th:only-of-type {\n",
       "        vertical-align: middle;\n",
       "    }\n",
       "\n",
       "    .dataframe tbody tr th {\n",
       "        vertical-align: top;\n",
       "    }\n",
       "\n",
       "    .dataframe thead th {\n",
       "        text-align: right;\n",
       "    }\n",
       "</style>\n",
       "<table border=\"1\" class=\"dataframe\">\n",
       "  <thead>\n",
       "    <tr style=\"text-align: right;\">\n",
       "      <th>Truth</th>\n",
       "      <th>0</th>\n",
       "      <th>1</th>\n",
       "    </tr>\n",
       "    <tr>\n",
       "      <th>Predicted</th>\n",
       "      <th></th>\n",
       "      <th></th>\n",
       "    </tr>\n",
       "  </thead>\n",
       "  <tbody>\n",
       "    <tr>\n",
       "      <th>0</th>\n",
       "      <td>58</td>\n",
       "      <td>13</td>\n",
       "    </tr>\n",
       "    <tr>\n",
       "      <th>1</th>\n",
       "      <td>8</td>\n",
       "      <td>48</td>\n",
       "    </tr>\n",
       "  </tbody>\n",
       "</table>\n",
       "</div>"
      ],
      "text/plain": [
       "Truth       0   1\n",
       "Predicted        \n",
       "0          58  13\n",
       "1           8  48"
      ]
     },
     "execution_count": 75,
     "metadata": {},
     "output_type": "execute_result"
    }
   ],
   "source": [
    "NB = GaussianNB()\n",
    "NB.fit(X_train, y_train)\n",
    "nb_preds = NB.predict(X_test)\n",
    "confusion_table(nb_preds, y_test)"
   ]
  },
  {
   "cell_type": "code",
   "execution_count": 76,
   "id": "969fc711",
   "metadata": {},
   "outputs": [
    {
     "data": {
      "text/plain": [
       "0.8346456692913385"
      ]
     },
     "execution_count": 76,
     "metadata": {},
     "output_type": "execute_result"
    }
   ],
   "source": [
    "accuracy_score(nb_preds, y_test)"
   ]
  },
  {
   "cell_type": "markdown",
   "id": "44da074a",
   "metadata": {},
   "source": [
    "___KNN___"
   ]
  },
  {
   "cell_type": "code",
   "execution_count": 77,
   "id": "2f9c2352",
   "metadata": {},
   "outputs": [],
   "source": [
    "acc_record = {'acc': 0, 'i':0}\n",
    "for i in range(1,11):\n",
    "    knn = KNeighborsClassifier(n_neighbors=i)\n",
    "    knn.fit(X_train, y_train)\n",
    "    knn_pred = knn.predict(X_test)\n",
    "    acc = accuracy_score(knn_pred, y_test)\n",
    "    if acc > acc_record['acc']:\n",
    "        acc_record['acc'] = acc\n",
    "        acc_record['i'] = i        \n",
    "        \n",
    "best_knn = KNeighborsClassifier(n_neighbors=acc_record['i'])\n",
    "best_knn.fit(X_train, y_train)\n",
    "best_knn_pred = best_knn.predict(X_test)\n",
    "acc = accuracy_score(best_knn_pred, y_test)"
   ]
  },
  {
   "cell_type": "code",
   "execution_count": 78,
   "id": "c4724bd9",
   "metadata": {},
   "outputs": [
    {
     "data": {
      "text/plain": [
       "{'acc': 0.9291338582677166, 'i': 3}"
      ]
     },
     "execution_count": 78,
     "metadata": {},
     "output_type": "execute_result"
    }
   ],
   "source": [
    "acc_record"
   ]
  },
  {
   "cell_type": "code",
   "execution_count": 79,
   "id": "4da60c3f",
   "metadata": {},
   "outputs": [
    {
     "data": {
      "text/html": [
       "<div>\n",
       "<style scoped>\n",
       "    .dataframe tbody tr th:only-of-type {\n",
       "        vertical-align: middle;\n",
       "    }\n",
       "\n",
       "    .dataframe tbody tr th {\n",
       "        vertical-align: top;\n",
       "    }\n",
       "\n",
       "    .dataframe thead th {\n",
       "        text-align: right;\n",
       "    }\n",
       "</style>\n",
       "<table border=\"1\" class=\"dataframe\">\n",
       "  <thead>\n",
       "    <tr style=\"text-align: right;\">\n",
       "      <th>Truth</th>\n",
       "      <th>0</th>\n",
       "      <th>1</th>\n",
       "    </tr>\n",
       "    <tr>\n",
       "      <th>Predicted</th>\n",
       "      <th></th>\n",
       "      <th></th>\n",
       "    </tr>\n",
       "  </thead>\n",
       "  <tbody>\n",
       "    <tr>\n",
       "      <th>0</th>\n",
       "      <td>63</td>\n",
       "      <td>6</td>\n",
       "    </tr>\n",
       "    <tr>\n",
       "      <th>1</th>\n",
       "      <td>3</td>\n",
       "      <td>55</td>\n",
       "    </tr>\n",
       "  </tbody>\n",
       "</table>\n",
       "</div>"
      ],
      "text/plain": [
       "Truth       0   1\n",
       "Predicted        \n",
       "0          63   6\n",
       "1           3  55"
      ]
     },
     "execution_count": 79,
     "metadata": {},
     "output_type": "execute_result"
    }
   ],
   "source": [
    "confusion_table(best_knn_pred, y_test)"
   ]
  },
  {
   "cell_type": "markdown",
   "id": "151eaa85",
   "metadata": {},
   "source": [
    "- KNN3 with the significant vars performed the best out of all tests in terms of accuracy"
   ]
  },
  {
   "cell_type": "code",
   "execution_count": null,
   "id": "3a9745b4",
   "metadata": {},
   "outputs": [],
   "source": []
  }
 ],
 "metadata": {
  "hide_input": false,
  "kernelspec": {
   "display_name": "Python 3 (ipykernel)",
   "language": "python",
   "name": "python3"
  },
  "language_info": {
   "codemirror_mode": {
    "name": "ipython",
    "version": 3
   },
   "file_extension": ".py",
   "mimetype": "text/x-python",
   "name": "python",
   "nbconvert_exporter": "python",
   "pygments_lexer": "ipython3",
   "version": "3.9.12"
  }
 },
 "nbformat": 4,
 "nbformat_minor": 5
}
