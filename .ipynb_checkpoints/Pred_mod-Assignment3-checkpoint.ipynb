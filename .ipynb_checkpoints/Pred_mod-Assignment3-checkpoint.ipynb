{
 "cells": [
  {
   "cell_type": "markdown",
   "id": "a0c92767",
   "metadata": {},
   "source": [
    "## 13. This question should be answered using the Weekly data set, which is part of the ISLP package. This data is similar in nature to the Smarket data from this chapter’s lab, except that it contains 1, 089 weekly returns for 21 years, from the beginning of 1990 to the end of 2010."
   ]
  },
  {
   "cell_type": "markdown",
   "id": "e22180cb",
   "metadata": {},
   "source": [
    "### (a) Produce some numerical and graphical summaries of the Weekly data. Do there appear to be any patterns"
   ]
  },
  {
   "cell_type": "markdown",
   "id": "0c0d24f2",
   "metadata": {},
   "source": [
    "### (b) Use the full data set to perform a logistic regression with Direction as the response and the five lag variables plus Volume as predictors. Use the summary function to print the results. Do any of the predictors appear to be statistically significant? If so, which ones?"
   ]
  },
  {
   "cell_type": "markdown",
   "id": "76dbfd89",
   "metadata": {},
   "source": [
    "### (c). Compute the confusion matrix and overall fraction of correct predictions. Explain what the confusion matrix is telling you about the types of mistakes made by logistic regression"
   ]
  },
  {
   "cell_type": "markdown",
   "id": "9c8332ca",
   "metadata": {},
   "source": [
    "### (d) Now fit the logistic regression model using a training data period from 1990 to 2008, with Lag2 as the only predictor. Compute the confusion matrix and the overall fraction of correct predictions for the held out data (that is, the data from 2009 and 2010)"
   ]
  },
  {
   "cell_type": "markdown",
   "id": "f5d3cf0c",
   "metadata": {},
   "source": [
    "### (e) Repeat (d) using LDA.\n"
   ]
  },
  {
   "cell_type": "markdown",
   "id": "f5e89173",
   "metadata": {},
   "source": [
    "### (f) Repeat (d) using QDA.\n"
   ]
  },
  {
   "cell_type": "markdown",
   "id": "c5138295",
   "metadata": {},
   "source": [
    "### (g) Repeat (d) using KNN with K = 1.\n"
   ]
  },
  {
   "cell_type": "markdown",
   "id": "6b941a96",
   "metadata": {},
   "source": [
    "### (h) Repeat (d) using naive Bayes.\n"
   ]
  },
  {
   "cell_type": "markdown",
   "id": "6f6674c9",
   "metadata": {},
   "source": [
    "### (i) Which of these methods appears to provide the best results on this data?"
   ]
  },
  {
   "cell_type": "markdown",
   "id": "f5ebece6",
   "metadata": {},
   "source": [
    "### (j)  Experiment with different combinations of predictors, including possible transformations and interactions, for each of the methods. Report the variables, method, and associated confusion matrix that appears to provide the best results on the held out data. Note that you should also experiment with values for K in the KNN classifier"
   ]
  },
  {
   "cell_type": "markdown",
   "id": "81100346",
   "metadata": {},
   "source": [
    "## 14. In this problem, you will develop a model to predict whether a given car gets high or low gas mileage based on the Auto data set"
   ]
  },
  {
   "cell_type": "markdown",
   "id": "302c27ea",
   "metadata": {},
   "source": [
    "### (a) Create a binary variable, mpg01, that contains a 1 if mpg contains a value above its median, and a 0 if mpg contains a value below its median. You can compute the median using the median() method of the data frame. Note you may find it helpful to add a column mpg01 to the data frame by assignment. Assuming you have stored the data frame as Auto, this can be done as follows:"
   ]
  },
  {
   "cell_type": "code",
   "execution_count": 3,
   "id": "9c4d5d98",
   "metadata": {},
   "outputs": [],
   "source": [
    "# code they said to use \n",
    "Auto['mpg01'] = mpg01"
   ]
  },
  {
   "cell_type": "markdown",
   "id": "7ad52860",
   "metadata": {},
   "source": [
    "### (b) Explore the data graphically in order to investigate the association between mpg01 and the other features. Which of the other features seem most likely to be useful in predicting mpg01? Scatterplots and boxplots may be useful tools to answer this question. Describe your findings.\n"
   ]
  },
  {
   "cell_type": "markdown",
   "id": "476f7350",
   "metadata": {},
   "source": [
    "### (c) Split the data into a training set and a test set.\n"
   ]
  },
  {
   "cell_type": "markdown",
   "id": "fa12f5cc",
   "metadata": {},
   "source": [
    "### (d) Perform LDA on the training data in order to predict mpg01 using the variables that seemed most associated with mpg01 in (b). What is the test error of the model obtained?"
   ]
  },
  {
   "cell_type": "markdown",
   "id": "53055e11",
   "metadata": {},
   "source": [
    "### (e) Perform QDA on the training data in order to predict mpg01 using the variables that seemed most associated with mpg01 in (b). What is the test error of the model obtained?\n"
   ]
  },
  {
   "cell_type": "markdown",
   "id": "ae84b8cf",
   "metadata": {},
   "source": [
    "### (f) Perform logistic regression on the training data in order to predict mpg01 using the variables that seemed most associated with mpg01 in (b). What is the test error of the model obtained?\n"
   ]
  },
  {
   "cell_type": "markdown",
   "id": "75bb3846",
   "metadata": {},
   "source": [
    "### (g) Perform naive Bayes on the training data in order to predict mpg01 using the variables that seemed most associated with mpg01 in (b). What is the test error of the model obtained?\n"
   ]
  },
  {
   "cell_type": "markdown",
   "id": "708db1ec",
   "metadata": {},
   "source": [
    "### (h) Perform KNN on the training data, with several values of K, in order to predict mpg01. Use only the variables that seemed most associated with mpg01 in (b). What test errors do you obtain? Which value of K seems to perform the best on this data set?"
   ]
  },
  {
   "cell_type": "markdown",
   "id": "76eb788f",
   "metadata": {},
   "source": [
    "### Using the Boston data set, fit classification models in order to predict whether a given suburb has a crime rate above or below the median. Explore logistic regression, LDA, naive Bayes, and KNN models using various subsets of the predictors. Describe your findings.\n",
    "### ___Hint: You will have to create the response variable yourself, using the variables that are contained in the Boston data set.___"
   ]
  }
 ],
 "metadata": {
  "hide_input": false,
  "kernelspec": {
   "display_name": "Python 3 (ipykernel)",
   "language": "python",
   "name": "python3"
  },
  "language_info": {
   "codemirror_mode": {
    "name": "ipython",
    "version": 3
   },
   "file_extension": ".py",
   "mimetype": "text/x-python",
   "name": "python",
   "nbconvert_exporter": "python",
   "pygments_lexer": "ipython3",
   "version": "3.9.12"
  }
 },
 "nbformat": 4,
 "nbformat_minor": 5
}
